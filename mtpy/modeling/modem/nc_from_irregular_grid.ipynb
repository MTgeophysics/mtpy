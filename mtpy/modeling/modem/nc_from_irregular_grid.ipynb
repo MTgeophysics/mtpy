{
 "cells": [
  {
   "cell_type": "code",
   "execution_count": 1,
   "metadata": {},
   "outputs": [],
   "source": [
    "%matplotlib inline"
   ]
  },
  {
   "cell_type": "code",
   "execution_count": 2,
   "metadata": {},
   "outputs": [
    {
     "name": "stderr",
     "output_type": "stream",
     "text": [
      "ERROR:root:the config yaml file /home/jami/.anaconda3/envs/mtpy/lib/python2.7/site-packages/mtpy-1.0.dev0-py2.7.egg/mtpy/utils/logging.yml does not exist?\n",
      "None\n"
     ]
    },
    {
     "name": "stdout",
     "output_type": "stream",
     "text": [
      "If you want to write a vtk file for 3d viewing, you need download and install evtk from https://bitbucket.org/pauloh/pyevtk\n",
      "Note: if you are using Windows you should build evtk first witheither MinGW or cygwin using the command: \n",
      "    python setup.py build -compiler=mingw32  or \n",
      "    python setup.py build -compiler=cygwin\n",
      "If you want to write a vtk file for 3d viewing, you need to install pyevtk\n",
      "Note: if you are using Windows you should build evtk first witheither MinGW or cygwin using the command: \n",
      "    python setup.py build -compiler=mingw32  or \n",
      "    python setup.py build -compiler=cygwin\n",
      "If you want to write a vtk file for 3d viewing, you need download and install evtk from https://bitbucket.org/pauloh/pyevtk\n",
      "If you want to write a vtk file for 3d viewing, you need to pip install PyEVTK: https://bitbucket.org/pauloh/pyevtk\n",
      "Note: if you are using Windows you should build evtk first witheither MinGW or cygwin using the command: \n",
      "    python setup.py build -compiler=mingw32  or \n",
      "    python setup.py build -compiler=cygwin\n"
     ]
    },
    {
     "name": "stderr",
     "output_type": "stream",
     "text": [
      "If you want to write a vtk file for 3d viewing, you need download and install evtk from https://bitbucket.org/pauloh/pyevtk\n"
     ]
    }
   ],
   "source": [
    "import sys\n",
    "from os.path import join\n",
    "import numpy as np\n",
    "from osgeo import osr\n",
    "from scipy.interpolate import interp2d\n",
    "from pyproj import Proj, transform\n",
    "\n",
    "sys.path.append('.')\n",
    "\n",
    "from modem import Model, Data, write_resistivity_grid, wgs84_crs, get_utm_zone, interpolated_layer\n",
    "from modem import converter, lon_lat_grid_spacing, uniform_interior_grid, median_spacing"
   ]
  },
  {
   "cell_type": "code",
   "execution_count": 3,
   "metadata": {},
   "outputs": [
    {
     "name": "stderr",
     "output_type": "stream",
     "text": [
      "INFO:Data:Set rotation angle to 0.0 deg clockwise from N\n",
      "/home/jami/.anaconda3/envs/mtpy/lib/python2.7/site-packages/mtpy-1.0.dev0-py2.7.egg/mtpy/utils/calculator.py:322: RuntimeWarning: invalid value encountered in double_scalars\n",
      "  z_rel_err = error/z_amp\n"
     ]
    },
    {
     "name": "stdout",
     "output_type": "stream",
     "text": [
      "      -15500.000      -21500.000         -67.000\n",
      "\n",
      "    0.000\n",
      "\n"
     ]
    }
   ],
   "source": [
    "# Define Data and Model Paths\n",
    "MT_PATH = '/home/jami/Work/mtpy'\n",
    "\n",
    "data = Data()\n",
    "data.read_data_file(data_fn=join(MT_PATH, 'examples/model_files/ModEM/ModEM_Data.dat'))\n",
    "\n",
    "# create a model object using the data object and read in model data\n",
    "model = Model(data_obj=data)\n",
    "model.read_model_file(model_fn=join(MT_PATH, 'examples/model_files/ModEM/ModEM_Model_File.rho'))\n"
   ]
  },
  {
   "cell_type": "code",
   "execution_count": 4,
   "metadata": {},
   "outputs": [],
   "source": [
    "center = data.center_point\n",
    "\n",
    "# dictionary for resistivity model data\n",
    "resistivity_data = {\n",
    "        'x': center.east.item() + (model.grid_east[1:] + model.grid_east[:-1])/\n",
    "2,\n",
    "        'y': center.north.item() + (model.grid_north[1:] + model.grid_north[:-1\n",
    "])/2,\n",
    "        'z': (model.grid_z[1:] + model.grid_z[:-1])/2,\n",
    "        'resistivity': np.transpose(model.res_model, axes=(2, 0, 1))\n",
    "    }\n",
    "\n"
   ]
  },
  {
   "cell_type": "code",
   "execution_count": 5,
   "metadata": {},
   "outputs": [],
   "source": [
    "spatial_ref = get_utm_zone(center.lat.item(), center.lon.item())\n",
    "\n",
    "to_wgs84 = converter(spatial_ref, wgs84_crs)\n",
    "from_wgs84 = converter(wgs84_crs, spatial_ref)\n",
    "\n",
    "center_lon, center_lat, width, height = lon_lat_grid_spacing(center, median_spacing(model.grid_east),median_spacing(model.grid_north), to_wgs84)\n"
   ]
  },
  {
   "cell_type": "code",
   "execution_count": 9,
   "metadata": {},
   "outputs": [],
   "source": [
    "lon_list = [to_wgs84(x, y)[0]\n",
    "                for x in resistivity_data['x']\n",
    "                for y in resistivity_data['y']]\n",
    "\n",
    "lat_list = [to_wgs84(x, y)[1]\n",
    "                for x in resistivity_data['x']\n",
    "                for y in resistivity_data['y']]\n",
    "\n",
    "interpolation_funcs = [interpolated_layer(resistivity_data['x'],\n",
    "                                              resistivity_data['y'],\n",
    "                                              resistivity_data['resistivity'][z_index, :, :])\n",
    "                           for z_index in range(resistivity_data['z'].shape[0])\n",
    "]\n",
    "\n",
    "result = {\n",
    "        'longitude': uniform_interior_grid(sorted(lon_list), width, center_lon)\n",
    ",\n",
    "        'latitude': uniform_interior_grid(sorted(lat_list), height, center_lat)\n",
    ",\n",
    "        'depth': resistivity_data['z']\n",
    "    }\n",
    "result['resistivity'] = np.zeros(tuple(result[key].shape[0] for key in ['depth', 'latitude', 'longitude']))\n",
    "\n"
   ]
  },
  {
   "cell_type": "code",
   "execution_count": 10,
   "metadata": {},
   "outputs": [],
   "source": [
    "def uniform_layer(interp_func, latitudes, longitudes):\n",
    "    lats, lons = latitudes.shape[0], longitudes.shape[0]\n",
    "\n",
    "    result = np.zeros((lats, lons))\n",
    "    for j in range(lons):\n",
    "        for i in range(lats):\n",
    "            lon, lat = longitudes[j], latitudes[i]\n",
    "            x, y = from_wgs84(lon, lat)\n",
    "\n",
    "            result[i, j] = interp_func(x, y)\n",
    "\n",
    "    return result\n"
   ]
  },
  {
   "cell_type": "code",
   "execution_count": 11,
   "metadata": {},
   "outputs": [
    {
     "name": "stdout",
     "output_type": "stream",
     "text": [
      "layer # 1\n",
      "layer # 2\n",
      "layer # 3\n",
      "layer # 4\n",
      "layer # 5\n",
      "layer # 6\n",
      "layer # 7\n",
      "layer # 8\n",
      "layer # 9\n",
      "layer # 10\n",
      "layer # 11\n",
      "layer # 12\n",
      "layer # 13\n",
      "layer # 14\n",
      "layer # 15\n",
      "layer # 16\n",
      "layer # 17\n",
      "layer # 18\n",
      "layer # 19\n",
      "layer # 20\n",
      "layer # 21\n",
      "layer # 22\n",
      "layer # 23\n",
      "layer # 24\n",
      "layer # 25\n",
      "layer # 26\n",
      "layer # 27\n",
      "layer # 28\n",
      "layer # 29\n",
      "layer # 30\n",
      "layer # 31\n",
      "layer # 32\n",
      "layer # 33\n",
      "layer # 34\n",
      "layer # 35\n",
      "layer # 36\n",
      "layer # 37\n",
      "layer # 38\n",
      "layer # 39\n",
      "layer # 40\n",
      "layer # 41\n",
      "layer # 42\n",
      "layer # 43\n",
      "layer # 44\n",
      "layer # 45\n",
      "layer # 46\n",
      "layer # 47\n",
      "layer # 48\n",
      "layer # 49\n",
      "layer # 50\n",
      "layer # 51\n",
      "layer # 52\n",
      "layer # 53\n",
      "layer # 54\n",
      "layer # 55\n",
      "layer # 56\n",
      "layer # 57\n",
      "layer # 58\n",
      "layer # 59\n",
      "layer # 60\n",
      "layer # 61\n",
      "layer # 62\n",
      "layer # 63\n",
      "layer # 64\n",
      "layer # 65\n",
      "layer # 66\n",
      "layer # 67\n",
      "layer # 68\n",
      "layer # 69\n",
      "layer # 70\n",
      "layer # 71\n",
      "layer # 72\n",
      "layer # 73\n",
      "layer # 74\n",
      "layer # 75\n",
      "layer # 76\n",
      "layer # 77\n",
      "layer # 78\n",
      "layer # 79\n",
      "layer # 80\n",
      "layer # 81\n",
      "layer # 82\n",
      "layer # 83\n",
      "layer # 84\n",
      "layer # 85\n",
      "layer # 86\n",
      "layer # 87\n",
      "layer # 88\n",
      "layer # 89\n",
      "layer # 90\n",
      "layer # 91\n",
      "layer # 92\n",
      "layer # 93\n",
      "layer # 94\n",
      "layer # 95\n",
      "layer # 96\n",
      "layer # 97\n",
      "layer # 98\n",
      "layer # 99\n",
      "layer # 100\n"
     ]
    }
   ],
   "source": [
    "for z_index in range(result['depth'].shape[0]):\n",
    "    print 'layer #', z_index + 1\n",
    "    result['resistivity'][z_index, :, :] = uniform_layer(interpolation_funcs[z_index],result['latitude'], result['longitude'])\n",
    "\n",
    "    write_resistivity_grid('wgs84.nc', wgs84_crs,result['latitude'], result['longitude'], result['depth'],result['resistivity'], z_label='depth')\n"
   ]
  },
  {
   "cell_type": "code",
   "execution_count": null,
   "metadata": {},
   "outputs": [],
   "source": []
  }
 ],
 "metadata": {
  "kernelspec": {
   "display_name": "Python 2",
   "language": "python",
   "name": "python2"
  },
  "language_info": {
   "codemirror_mode": {
    "name": "ipython",
    "version": 2
   },
   "file_extension": ".py",
   "mimetype": "text/x-python",
   "name": "python",
   "nbconvert_exporter": "python",
   "pygments_lexer": "ipython2",
   "version": "2.7.15"
  }
 },
 "nbformat": 4,
 "nbformat_minor": 2
}
