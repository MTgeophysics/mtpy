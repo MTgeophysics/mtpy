{
 "cells": [
  {
   "cell_type": "code",
   "execution_count": 1,
   "metadata": {},
   "outputs": [],
   "source": [
    "%matplotlib inline"
   ]
  },
  {
   "cell_type": "code",
   "execution_count": 2,
   "metadata": {},
   "outputs": [],
   "source": [
    "import lib\n",
    "import interp\n",
    "import nc\n",
    "import numpy as np\n"
   ]
  },
  {
   "cell_type": "code",
   "execution_count": 3,
   "metadata": {},
   "outputs": [],
   "source": [
    "# the input data \"winGlink_3dmod_input.xyzv\" had no information about the crs.\n",
    "# so, we had to hard code it.\n",
    "# epsg represents the data area are in WGS84/ UTM 53S\n",
    "\n",
    "source_crs = lib.epsg_to_crs(32753)\n",
    "\n",
    "# make a grid that covers the whole area of all the points\n",
    "# with desired resolution. The grid crs we want is 4326.\n",
    "geo_grid = lib.Grid3D.from_extent_and_resolution(left=(131.5, -31., -4500.),\n",
    "                                                 right=(132.5, -30., -125.),\n",
    "                                                 resolution=(0.005, 0.005, 100.),\n",
    "                                                 crs=lib.wgs84_crs)\n",
    "# utm points are poivins flattened in our data crs\n",
    "utm_points = geo_grid.flatten().to_crs(source_crs)\n",
    "\n",
    "utm_grid = utm_points.to_gridded_array(geo_grid.shape)"
   ]
  },
  {
   "cell_type": "code",
   "execution_count": 4,
   "metadata": {},
   "outputs": [
    {
     "data": {
      "text/plain": [
       "(1760000, 3)"
      ]
     },
     "execution_count": 4,
     "metadata": {},
     "output_type": "execute_result"
    }
   ],
   "source": [
    "utm_points.points.shape"
   ]
  },
  {
   "cell_type": "code",
   "execution_count": 5,
   "metadata": {},
   "outputs": [
    {
     "data": {
      "text/plain": [
       "(200, 200, 44, 3)"
      ]
     },
     "execution_count": 5,
     "metadata": {},
     "output_type": "execute_result"
    }
   ],
   "source": [
    "utm_grid.shape"
   ]
  },
  {
   "cell_type": "code",
   "execution_count": 6,
   "metadata": {},
   "outputs": [],
   "source": [
    "# the input data are in x y z v order and is fixed for false origin\n",
    "arr = np.loadtxt('winGlink_3dmod_input.xyzv')\n",
    "\n",
    "# source_points also remembers its crs\n",
    "source_points = lib.Points3D(arr[:, 0:3], source_crs).fix_false_origin()"
   ]
  },
  {
   "cell_type": "code",
   "execution_count": 7,
   "metadata": {},
   "outputs": [],
   "source": [
    "source_val = arr[:, 3]\n",
    "#print(source_val.shape)\n",
    "\n",
    "source_in_geo = source_points.to_crs(lib.wgs84_crs)\n",
    "\n",
    "mask = source_in_geo.clipping_mask(geo_grid)\n",
    "#print(mask.shape)\n",
    "source_points.points = source_points.points[mask]\n",
    "\n",
    "source_val = source_val[mask]"
   ]
  },
  {
   "cell_type": "code",
   "execution_count": 8,
   "metadata": {},
   "outputs": [],
   "source": [
    "#resistivity = interp.nearest(source_points, source_val, utm_points)\n",
    "resistivity = interp.IDW(source_points, source_val, utm_points)"
   ]
  },
  {
   "cell_type": "code",
   "execution_count": 9,
   "metadata": {},
   "outputs": [
    {
     "name": "stdout",
     "output_type": "stream",
     "text": [
      "(200, 200, 44)\n"
     ]
    }
   ],
   "source": [
    "resistivity = resistivity.reshape(geo_grid.shape[:3])\n",
    "\n",
    "print(resistivity.shape)"
   ]
  },
  {
   "cell_type": "code",
   "execution_count": 10,
   "metadata": {},
   "outputs": [],
   "source": [
    "nc.write_resistivity_grid('IDW.nc', lib.wgs84_crs, geo_grid.y, geo_grid.x, geo_grid.z, resistivity.transpose([2, 0, 1]))\n",
    "\n"
   ]
  },
  {
   "cell_type": "code",
   "execution_count": null,
   "metadata": {},
   "outputs": [],
   "source": []
  }
 ],
 "metadata": {
  "kernelspec": {
   "display_name": "Python 2",
   "language": "python",
   "name": "python2"
  },
  "language_info": {
   "codemirror_mode": {
    "name": "ipython",
    "version": 2
   },
   "file_extension": ".py",
   "mimetype": "text/x-python",
   "name": "python",
   "nbconvert_exporter": "python",
   "pygments_lexer": "ipython2",
   "version": "2.7.15"
  }
 },
 "nbformat": 4,
 "nbformat_minor": 2
}
