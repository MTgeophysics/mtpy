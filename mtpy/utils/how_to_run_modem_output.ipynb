{
 "cells": [
  {
   "cell_type": "code",
   "execution_count": 11,
   "metadata": {},
   "outputs": [],
   "source": [
    "%matplotlib inline"
   ]
  },
  {
   "cell_type": "code",
   "execution_count": 12,
   "metadata": {},
   "outputs": [],
   "source": [
    "import sys\n",
    "from os.path import join\n",
    "import numpy as np\n",
    "from osgeo import osr\n",
    "from scipy.interpolate import interp2d\n",
    "from pyproj import Proj, transform\n",
    "\n",
    "sys.path.append('.')\n",
    "\n",
    "from modem import Model, Data, write_resistivity_grid, wgs84_crs, get_utm_zone, interpolated_layer\n",
    "from modem import converter, lon_lat_grid_spacing, uniform_interior_grid, median_spacing"
   ]
  },
  {
   "cell_type": "code",
   "execution_count": 13,
   "metadata": {},
   "outputs": [
    {
     "name": "stderr",
     "output_type": "stream",
     "text": [
      "INFO:Data:Set rotation angle to 0.0 deg clockwise from N\n"
     ]
    },
    {
     "name": "stdout",
     "output_type": "stream",
     "text": [
      "      -15500.000      -21500.000         -67.000\n",
      "\n",
      "    0.000\n",
      "\n"
     ]
    }
   ],
   "source": [
    "# Define Data and Model Paths\n",
    "MT_PATH = '/home/jami/Work/mtpy'\n",
    "\n",
    "data = Data()\n",
    "data.read_data_file(data_fn=join(MT_PATH, 'examples/model_files/ModEM/ModEM_Data.dat'))\n",
    "\n",
    "# create a model object using the data object and read in model data\n",
    "model = Model(data_obj=data)\n",
    "model.read_model_file(model_fn=join(MT_PATH, 'examples/model_files/ModEM/ModEM_Model_File.rho'))\n"
   ]
  },
  {
   "cell_type": "code",
   "execution_count": 14,
   "metadata": {},
   "outputs": [],
   "source": [
    "center = data.center_point\n",
    "\n",
    "# dictionary for resistivity model data\n",
    "resistivity_data = {\n",
    "        'x': center.east.item() + (model.grid_east[1:] + model.grid_east[:-1])/\n",
    "2,\n",
    "        'y': center.north.item() + (model.grid_north[1:] + model.grid_north[:-1\n",
    "])/2,\n",
    "        'z': (model.grid_z[1:] + model.grid_z[:-1])/2,\n",
    "        'resistivity': np.transpose(model.res_model, axes=(2, 0, 1))\n",
    "    }\n",
    "\n"
   ]
  },
  {
   "cell_type": "code",
   "execution_count": 15,
   "metadata": {},
   "outputs": [
    {
     "data": {
      "text/plain": [
       "rec.array([('P\\xcd,\\xbb\\xfc~\\x00\\x00\\xf0\\xa1', -30.212397, 139.728396, -1.60868165e-83, -1.60868165e-83, -1.60868165e-83, 377613.75031259, 6656995.48229045, '54J')],\n",
       "          dtype=[('station', 'S10'), ('lat', '<f8'), ('lon', '<f8'), ('elev', '<f8'), ('rel_east', '<f8'), ('rel_north', '<f8'), ('east', '<f8'), ('north', '<f8'), ('zone', 'S4')])"
      ]
     },
     "execution_count": 15,
     "metadata": {},
     "output_type": "execute_result"
    }
   ],
   "source": [
    "center"
   ]
  },
  {
   "cell_type": "code",
   "execution_count": 16,
   "metadata": {},
   "outputs": [],
   "source": [
    "spatial_ref = get_utm_zone(center.lat.item(), center.lon.item())\n",
    "\n",
    "to_wgs84 = converter(spatial_ref, wgs84_crs)\n",
    "from_wgs84 = converter(wgs84_crs, spatial_ref)\n",
    "\n",
    "center_lon, center_lat, width, height = lon_lat_grid_spacing(center, median_spacing(model.grid_east),median_spacing(model.grid_north), to_wgs84)\n"
   ]
  },
  {
   "cell_type": "code",
   "execution_count": 22,
   "metadata": {},
   "outputs": [
    {
     "data": {
      "text/plain": [
       "'PROJCS[\"UTM Zone 54, Southern Hemisphere\",\\n    GEOGCS[\"WGS 84\",\\n        DATUM[\"WGS_1984\",\\n            SPHEROID[\"WGS 84\",6378137,298.257223563,\\n                AUTHORITY[\"EPSG\",\"7030\"]],\\n            AUTHORITY[\"EPSG\",\"6326\"]],\\n        PRIMEM[\"Greenwich\",0,\\n            AUTHORITY[\"EPSG\",\"8901\"]],\\n        UNIT[\"degree\",0.0174532925199433,\\n            AUTHORITY[\"EPSG\",\"9122\"]],\\n        AUTHORITY[\"EPSG\",\"4326\"]],\\n    PROJECTION[\"Transverse_Mercator\"],\\n    PARAMETER[\"latitude_of_origin\",0],\\n    PARAMETER[\"central_meridian\",141],\\n    PARAMETER[\"scale_factor\",0.9996],\\n    PARAMETER[\"false_easting\",500000],\\n    PARAMETER[\"false_northing\",10000000],\\n    UNIT[\"Meter\",1]]'"
      ]
     },
     "execution_count": 22,
     "metadata": {},
     "output_type": "execute_result"
    }
   ],
   "source": [
    "spatial_ref.ExportToPrettyWkt()"
   ]
  },
  {
   "cell_type": "code",
   "execution_count": 17,
   "metadata": {},
   "outputs": [],
   "source": [
    "lon_list = [to_wgs84(x, y)[0]\n",
    "                for x in resistivity_data['x']\n",
    "                for y in resistivity_data['y']]\n",
    "\n",
    "lat_list = [to_wgs84(x, y)[1]\n",
    "                for x in resistivity_data['x']\n",
    "                for y in resistivity_data['y']]\n",
    "\n",
    "interpolation_funcs = [interpolated_layer(resistivity_data['x'],\n",
    "                                              resistivity_data['y'],\n",
    "                                              resistivity_data['resistivity'][z_index, :, :])\n",
    "                           for z_index in range(resistivity_data['z'].shape[0])\n",
    "]\n",
    "\n",
    "result = {\n",
    "        'longitude': uniform_interior_grid(sorted(lon_list), width, center_lon)\n",
    ",\n",
    "        'latitude': uniform_interior_grid(sorted(lat_list), height, center_lat)\n",
    ",\n",
    "        'depth': resistivity_data['z']\n",
    "    }\n",
    "result['resistivity'] = np.zeros(tuple(result[key].shape[0] for key in ['depth', 'latitude', 'longitude']))\n",
    "\n"
   ]
  },
  {
   "cell_type": "code",
   "execution_count": 18,
   "metadata": {},
   "outputs": [],
   "source": [
    "def uniform_layer(interp_func, latitudes, longitudes):\n",
    "    lats, lons = latitudes.shape[0], longitudes.shape[0]\n",
    "\n",
    "    result = np.zeros((lats, lons))\n",
    "    for j in range(lons):\n",
    "        for i in range(lats):\n",
    "            lon, lat = longitudes[j], latitudes[i]\n",
    "            x, y = from_wgs84(lon, lat)\n",
    "\n",
    "            result[i, j] = interp_func(x, y)\n",
    "\n",
    "    return result\n"
   ]
  },
  {
   "cell_type": "code",
   "execution_count": 19,
   "metadata": {},
   "outputs": [
    {
     "name": "stdout",
     "output_type": "stream",
     "text": [
      "layer # -64.0\n",
      "layer # -62.0\n",
      "layer # -59.5\n",
      "layer # -56.5\n",
      "layer # -52.5\n",
      "layer # -47.5\n",
      "layer # -41.5\n",
      "layer # -34.0\n",
      "layer # -25.0\n",
      "layer # -15.0\n",
      "layer # -5.0\n",
      "layer # 5.0\n",
      "layer # 15.0\n",
      "layer # 25.0\n",
      "layer # 35.0\n",
      "layer # 45.0\n",
      "layer # 55.0\n",
      "layer # 65.0\n",
      "layer # 75.0\n",
      "layer # 85.0\n",
      "layer # 95.0\n",
      "layer # 105.0\n",
      "layer # 115.0\n",
      "layer # 125.0\n",
      "layer # 140.0\n",
      "layer # 160.0\n",
      "layer # 180.0\n",
      "layer # 200.0\n",
      "layer # 220.0\n",
      "layer # 245.0\n",
      "layer # 275.0\n",
      "layer # 305.0\n",
      "layer # 335.0\n",
      "layer # 370.0\n",
      "layer # 410.0\n",
      "layer # 455.0\n",
      "layer # 505.0\n",
      "layer # 560.0\n",
      "layer # 620.0\n",
      "layer # 685.0\n",
      "layer # 755.0\n",
      "layer # 830.0\n",
      "layer # 915.0\n",
      "layer # 1010.0\n",
      "layer # 1110.0\n",
      "layer # 1210.0\n",
      "layer # 1310.0\n",
      "layer # 1410.0\n",
      "layer # 1560.0\n",
      "layer # 1760.0\n",
      "layer # 1960.0\n",
      "layer # 2160.0\n",
      "layer # 2360.0\n",
      "layer # 2610.0\n",
      "layer # 2910.0\n",
      "layer # 3210.0\n",
      "layer # 3510.0\n",
      "layer # 3860.0\n",
      "layer # 4260.0\n",
      "layer # 4710.0\n",
      "layer # 5210.0\n",
      "layer # 5760.0\n",
      "layer # 6360.0\n",
      "layer # 7010.0\n",
      "layer # 7710.0\n",
      "layer # 8460.0\n",
      "layer # 9310.0\n",
      "layer # 10260.0\n",
      "layer # 11310.0\n",
      "layer # 12460.0\n",
      "layer # 13710.0\n",
      "layer # 15110.0\n",
      "layer # 16660.0\n",
      "layer # 18360.0\n",
      "layer # 20260.0\n",
      "layer # 22360.0\n",
      "layer # 24660.0\n",
      "layer # 27160.0\n",
      "layer # 29910.0\n",
      "layer # 32960.0\n",
      "layer # 36310.0\n",
      "layer # 39960.0\n",
      "layer # 43960.0\n",
      "layer # 48360.0\n",
      "layer # 53210.0\n",
      "layer # 58560.0\n",
      "layer # 64460.0\n",
      "layer # 70960.0\n",
      "layer # 78110.0\n",
      "layer # 85960.0\n",
      "layer # 94610.0\n",
      "layer # 104160.0\n",
      "layer # 114660.0\n",
      "layer # 128960.0\n",
      "layer # 151860.0\n",
      "layer # 188510.0\n",
      "layer # 247110.0\n",
      "layer # 340810.0\n",
      "layer # 490710.0\n",
      "layer #"
     ]
    },
    {
     "ename": "IndexError",
     "evalue": "index 100 is out of bounds for axis 0 with size 100",
     "output_type": "error",
     "traceback": [
      "\u001b[0;31m---------------------------------------------------------------------------\u001b[0m",
      "\u001b[0;31mIndexError\u001b[0m                                Traceback (most recent call last)",
      "\u001b[0;32m<ipython-input-19-88a3f4c3effe>\u001b[0m in \u001b[0;36m<module>\u001b[0;34m()\u001b[0m\n\u001b[1;32m      1\u001b[0m \u001b[0;32mfor\u001b[0m \u001b[0mz_index\u001b[0m \u001b[0;32min\u001b[0m \u001b[0mrange\u001b[0m\u001b[0;34m(\u001b[0m\u001b[0mresult\u001b[0m\u001b[0;34m[\u001b[0m\u001b[0;34m'depth'\u001b[0m\u001b[0;34m]\u001b[0m\u001b[0;34m.\u001b[0m\u001b[0mshape\u001b[0m\u001b[0;34m[\u001b[0m\u001b[0;36m0\u001b[0m\u001b[0;34m]\u001b[0m\u001b[0;34m)\u001b[0m\u001b[0;34m:\u001b[0m\u001b[0;34m\u001b[0m\u001b[0m\n\u001b[0;32m----> 2\u001b[0;31m     \u001b[0;32mprint\u001b[0m \u001b[0;34m'layer #'\u001b[0m\u001b[0;34m,\u001b[0m \u001b[0mresult\u001b[0m\u001b[0;34m[\u001b[0m\u001b[0;34m'depth'\u001b[0m\u001b[0;34m]\u001b[0m\u001b[0;34m[\u001b[0m\u001b[0mz_index\u001b[0m \u001b[0;34m+\u001b[0m \u001b[0;36m1\u001b[0m\u001b[0;34m]\u001b[0m\u001b[0;34m\u001b[0m\u001b[0m\n\u001b[0m\u001b[1;32m      3\u001b[0m     \u001b[0mresult\u001b[0m\u001b[0;34m[\u001b[0m\u001b[0;34m'resistivity'\u001b[0m\u001b[0;34m]\u001b[0m\u001b[0;34m[\u001b[0m\u001b[0mz_index\u001b[0m\u001b[0;34m,\u001b[0m \u001b[0;34m:\u001b[0m\u001b[0;34m,\u001b[0m \u001b[0;34m:\u001b[0m\u001b[0;34m]\u001b[0m \u001b[0;34m=\u001b[0m \u001b[0muniform_layer\u001b[0m\u001b[0;34m(\u001b[0m\u001b[0minterpolation_funcs\u001b[0m\u001b[0;34m[\u001b[0m\u001b[0mz_index\u001b[0m\u001b[0;34m]\u001b[0m\u001b[0;34m,\u001b[0m\u001b[0mresult\u001b[0m\u001b[0;34m[\u001b[0m\u001b[0;34m'latitude'\u001b[0m\u001b[0;34m]\u001b[0m\u001b[0;34m,\u001b[0m \u001b[0mresult\u001b[0m\u001b[0;34m[\u001b[0m\u001b[0;34m'longitude'\u001b[0m\u001b[0;34m]\u001b[0m\u001b[0;34m)\u001b[0m\u001b[0;34m\u001b[0m\u001b[0m\n\u001b[1;32m      4\u001b[0m \u001b[0;34m\u001b[0m\u001b[0m\n\u001b[1;32m      5\u001b[0m     \u001b[0mwrite_resistivity_grid\u001b[0m\u001b[0;34m(\u001b[0m\u001b[0;34m'wgs84.nc'\u001b[0m\u001b[0;34m,\u001b[0m \u001b[0mwgs84_crs\u001b[0m\u001b[0;34m,\u001b[0m\u001b[0mresult\u001b[0m\u001b[0;34m[\u001b[0m\u001b[0;34m'latitude'\u001b[0m\u001b[0;34m]\u001b[0m\u001b[0;34m,\u001b[0m \u001b[0mresult\u001b[0m\u001b[0;34m[\u001b[0m\u001b[0;34m'longitude'\u001b[0m\u001b[0;34m]\u001b[0m\u001b[0;34m,\u001b[0m \u001b[0mresult\u001b[0m\u001b[0;34m[\u001b[0m\u001b[0;34m'depth'\u001b[0m\u001b[0;34m]\u001b[0m\u001b[0;34m,\u001b[0m\u001b[0mresult\u001b[0m\u001b[0;34m[\u001b[0m\u001b[0;34m'resistivity'\u001b[0m\u001b[0;34m]\u001b[0m\u001b[0;34m,\u001b[0m \u001b[0mz_label\u001b[0m\u001b[0;34m=\u001b[0m\u001b[0;34m'depth'\u001b[0m\u001b[0;34m)\u001b[0m\u001b[0;34m\u001b[0m\u001b[0m\n",
      "\u001b[0;31mIndexError\u001b[0m: index 100 is out of bounds for axis 0 with size 100"
     ]
    }
   ],
   "source": [
    "for z_index in range(result['depth'].shape[0]):\n",
    "\n",
    "    result['resistivity'][z_index, :, :] = uniform_layer(interpolation_funcs[z_index],result['latitude'], result['longitude'])\n",
    "\n",
    "    write_resistivity_grid('wgs84.nc', wgs84_crs,result['latitude'], result['longitude'], result['depth'],result['resistivity'], z_label='depth')\n"
   ]
  },
  {
   "cell_type": "code",
   "execution_count": 20,
   "metadata": {},
   "outputs": [
    {
     "name": "stdout",
     "output_type": "stream",
     "text": [
      " layer # 490710.0\n"
     ]
    }
   ],
   "source": [
    "print 'layer #', result['depth'][-1]"
   ]
  },
  {
   "cell_type": "code",
   "execution_count": null,
   "metadata": {},
   "outputs": [],
   "source": []
  }
 ],
 "metadata": {
  "kernelspec": {
   "display_name": "Python 2",
   "language": "python",
   "name": "python2"
  },
  "language_info": {
   "codemirror_mode": {
    "name": "ipython",
    "version": 2
   },
   "file_extension": ".py",
   "mimetype": "text/x-python",
   "name": "python",
   "nbconvert_exporter": "python",
   "pygments_lexer": "ipython2",
   "version": "2.7.15"
  }
 },
 "nbformat": 4,
 "nbformat_minor": 2
}
