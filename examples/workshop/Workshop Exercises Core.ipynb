{
 "cells": [
  {
   "cell_type": "markdown",
   "metadata": {},
   "source": [
    "# Introduction"
   ]
  },
  {
   "cell_type": "markdown",
   "metadata": {},
   "source": [
    "This workbook contains some examples for reading, analysing and plotting processed MT data. It covers most of the steps available in MTPy. For more details on specific input parameters and other functionality, we recommend looking at the mtpy documentation, which can be found at: https://mtpy2.readthedocs.io/en/develop/.\n",
    "\n",
    "This workbook is structured according to some of the key modules in MTPy: Core, Analysis, Imaging, and Modeling."
   ]
  },
  {
   "cell_type": "markdown",
   "metadata": {},
   "source": [
    "## Getting Started"
   ]
  },
  {
   "cell_type": "markdown",
   "metadata": {},
   "source": [
    "To start with, you will need to make sure MTPy is installed and is working correctly. Please see the installation guide (https://github.com/MTgeophysics/mtpy/wiki/MTPy-installation-guide-for-Windows-10-and-Ubuntu-18.04) for details.\n",
    "\n",
    "Before you begin these examples, we suggest you make a temporary folder (e.g. C:/tmp) to save all example outputs."
   ]
  },
  {
   "cell_type": "markdown",
   "metadata": {},
   "source": [
    "## Useful tricks and tips"
   ]
  },
  {
   "cell_type": "markdown",
   "metadata": {},
   "source": [
    "This workbook exists as a Jupyter notebook and a pdf. If you are running the Jupyter notebook, you can run each of the cells, modifying the inputs to suit your requirements. Most of these examples have been written to be self contained.\n",
    "\n",
    "In Jupyter, you can add the following line to the top of any cell and it will write the contents of that cell to a python script: %%writefile example.py\n",
    "\n",
    "You can also select multiple cells and copy them to a new Jupyter notebook.\n",
    "\n",
    "Many of the examples below make use of the matplotlib colour maps. Please see https://matplotlib.org/examples/color/colormaps_reference.html for colour map options."
   ]
  },
  {
   "cell_type": "markdown",
   "metadata": {},
   "source": [
    "# Core"
   ]
  },
  {
   "cell_type": "markdown",
   "metadata": {},
   "source": [
    "These first few examples cover some of the basic functions and tools that can be used to look at data contained in an edi file, plot it, and make changes (e.g. sample onto different frequencies)."
   ]
  },
  {
   "cell_type": "markdown",
   "metadata": {},
   "source": [
    "## Read an edi file into an MT object"
   ]
  },
  {
   "cell_type": "code",
   "execution_count": 1,
   "metadata": {},
   "outputs": [],
   "source": [
    "# import required modules\n",
    "from mtpy.core.mt import MT\n",
    "\n",
    "# Define the path to your edi file\n",
    "edi_file = \"C:/mtpywin/mtpy/examples/data/edi_files_2/Synth00.edi\"\n",
    "\n",
    "# Create an MT object\n",
    "mt_obj = MT(edi_file)"
   ]
  },
  {
   "cell_type": "markdown",
   "metadata": {},
   "source": [
    "The mt_obj contains all the data from the edi file, e.g. impedance, tipper, frequency as well as station information (lat/long). To look at any of these parameters you can type, for example:"
   ]
  },
  {
   "cell_type": "code",
   "execution_count": 2,
   "metadata": {},
   "outputs": [
    {
     "name": "stdout",
     "output_type": "stream",
     "text": [
      "-19.01 136.01\n"
     ]
    }
   ],
   "source": [
    "# To see the latitude and longitude\n",
    "print(mt_obj.lat, mt_obj.lon)"
   ]
  },
  {
   "cell_type": "code",
   "execution_count": 3,
   "metadata": {},
   "outputs": [
    {
     "name": "stdout",
     "output_type": "stream",
     "text": [
      "606300.4060199939 7897760.860594714 95.0\n"
     ]
    }
   ],
   "source": [
    "# To see the easting, northing, and elevation\n",
    "print(mt_obj.east, mt_obj.north, mt_obj.elev)"
   ]
  },
  {
   "cell_type": "markdown",
   "metadata": {},
   "source": [
    "There are many other parameters you can look at in the mt_obj. Just type mt_obj.[TAB] to see what is available.\n",
    "In the MT object are the Z and Tipper objects (mt_obj.Z; mt_obj.Tipper). These contain all information related to, respectively, the impedance tensor and the tipper."
   ]
  },
  {
   "cell_type": "code",
   "execution_count": 4,
   "metadata": {},
   "outputs": [
    {
     "name": "stdout",
     "output_type": "stream",
     "text": [
      "[1.256500e+04 9.751601e+03 7.876300e+03 6.188500e+03 5.250801e+03\n",
      " 4.265799e+03 3.515799e+03 8.437800e+02 6.562798e+02 4.922399e+02\n",
      " 3.867599e+02 3.164400e+02 2.578400e+02 2.109600e+02 1.728900e+02\n",
      " 1.367200e+02 1.015600e+02 7.421900e+01 5.761700e+01 4.882800e+01\n",
      " 4.101600e+01 3.222700e+01 2.636700e+01 2.148400e+01 1.757800e+01\n",
      " 1.440400e+01 1.147500e+01 8.593800e+00 6.591801e+00 5.371100e+00\n",
      " 4.394500e+00 3.601100e+00 2.868700e+00 2.304700e+00 1.914100e+00\n",
      " 1.601600e+00 1.328100e+00 1.074200e+00 8.789100e-01 6.835900e-01\n",
      " 5.078100e-01 3.710900e-01 2.880900e-01 2.050800e-01 1.318400e-01\n",
      " 8.789098e-02 6.835900e-02 5.127000e-02 4.028299e-02 3.295900e-02\n",
      " 2.685500e-02 2.197300e-02 1.709000e-02 1.281700e-02 1.007100e-02\n",
      " 8.239700e-03 6.713900e-03 5.493201e-03 4.272499e-03 2.822900e-03\n",
      " 2.059900e-03 1.678500e-03 1.373300e-03 1.068100e-03 7.629400e-04]\n"
     ]
    }
   ],
   "source": [
    "# for example, to see the frequency values represented in the impedance tensor:\n",
    "print(mt_obj.Z.freq)"
   ]
  },
  {
   "cell_type": "code",
   "execution_count": 5,
   "metadata": {
    "scrolled": false
   },
   "outputs": [
    {
     "name": "stdout",
     "output_type": "stream",
     "text": [
      "[[[  26.58566   -4.302123j  482.4492  +604.7747j  ]\n",
      "  [-410.0502  -800.4257j      8.994784 +44.07396j ]]\n",
      "\n",
      " [[  12.43271   +7.519158j  434.8246  +514.6176j  ]\n",
      "  [-372.7205  -666.402j      17.64062  +36.09528j ]]\n",
      "\n",
      " [[   7.652151  +6.28703j   398.3996  +460.0998j  ]\n",
      "  [-349.9875  -580.3959j     21.57495  +33.98854j ]]\n",
      "\n",
      " [[   3.59474   +1.225811j  362.5121  +413.2823j  ]\n",
      "  [-328.0029  -501.5329j     25.02421  +33.02813j ]]]\n"
     ]
    }
   ],
   "source": [
    "# or to see the impedance tensor (first 4 elements)\n",
    "print(mt_obj.Z.z[:4])"
   ]
  },
  {
   "cell_type": "code",
   "execution_count": 6,
   "metadata": {},
   "outputs": [
    {
     "name": "stdout",
     "output_type": "stream",
     "text": [
      "[[[1.15448560e-02 9.52661629e+00]\n",
      "  [1.28742136e+01 3.22072438e-02]]\n",
      "\n",
      " [[4.32975088e-03 9.30931663e+00]\n",
      "  [1.19572611e+01 3.31035019e-02]]\n",
      "\n",
      " [[2.49056438e-03 9.40578869e+00]\n",
      "  [1.16641228e+01 4.11538240e-02]]\n",
      "\n",
      " [[4.66179794e-04 9.76706091e+00]\n",
      "  [1.16060807e+01 5.54922342e-02]]]\n",
      "[[[  -9.19198953   51.41945343]\n",
      "  [-117.1256163    78.46525668]]\n",
      "\n",
      " [[  31.16505948   49.80396162]\n",
      "  [-119.21840697   63.95414249]]\n",
      "\n",
      " [[  39.40662667   49.11076951]\n",
      "  [-121.09061209   57.59379146]]\n",
      "\n",
      " [[  18.82944281   48.74426019]\n",
      "  [-123.18471678   52.85011776]]]\n"
     ]
    }
   ],
   "source": [
    "# or the resistivity or phase (first 4 values)\n",
    "print(mt_obj.Z.resistivity[:4])\n",
    "print(mt_obj.Z.phase[:4])"
   ]
  },
  {
   "cell_type": "markdown",
   "metadata": {},
   "source": [
    "As with the MT object, you can explore the object by typing mt_obj.Z.[TAB] to see the available attributes."
   ]
  },
  {
   "cell_type": "markdown",
   "metadata": {},
   "source": [
    "## Plot an edi file"
   ]
  },
  {
   "cell_type": "markdown",
   "metadata": {},
   "source": [
    "In this example we plot MT data from an edi file."
   ]
  },
  {
   "cell_type": "code",
   "execution_count": 7,
   "metadata": {},
   "outputs": [
    {
     "data": {
      "text/plain": [
       "<Figure size 960x720 with 5 Axes>"
      ]
     },
     "metadata": {},
     "output_type": "display_data"
    }
   ],
   "source": [
    "# import required modules\n",
    "from mtpy.core.mt import MT\n",
    "import os\n",
    "\n",
    "# Define the path to your edi file and save path\n",
    "edi_file = \"C:/mtpywin/mtpy/examples/data/edi_files_2/Synth00.edi\"\n",
    "savepath = r\"C:/tmp\"\n",
    "\n",
    "# Create an MT object\n",
    "mt_obj = MT(edi_file)\n",
    "\n",
    "# To plot the edi file we read in in Part 1 & save to file:\n",
    "pt_obj = mt_obj.plot_mt_response(plot_num=1, # 1 = yx and xy; 2 = all 4 components\n",
    "                                            # 3 = off diagonal + determinant\n",
    "                                 plot_tipper = 'yri',\n",
    "                                 plot_pt = 'y' # plot phase tensor 'y' or 'n'\n",
    "                                )\n",
    "#pt_obj.save_plot(os.path.join(savepath,\"Synth00.png\"), fig_dpi=400)"
   ]
  },
  {
   "cell_type": "markdown",
   "metadata": {},
   "source": [
    "## Make some change to the data and save to a new file"
   ]
  },
  {
   "cell_type": "markdown",
   "metadata": {},
   "source": [
    "This example demonstrates how to resample the data onto new frequency values and write to a new edi file. In the example below, you can either choose every second frequency or resample onto five periods per decade. \n",
    "To do this we need to make a new Z object, and save it to a file."
   ]
  },
  {
   "cell_type": "code",
   "execution_count": 8,
   "metadata": {},
   "outputs": [
    {
     "name": "stderr",
     "output_type": "stream",
     "text": [
      "C:\\mtpywin\\mtpy\\mtpy\\utils\\calculator.py:371: RuntimeWarning: invalid value encountered in double_scalars\n",
      "  z_rel_err = error/z_amp\n"
     ]
    },
    {
     "data": {
      "text/plain": [
       "'C:\\\\tmp\\\\Synth00_5ppd.edi'"
      ]
     },
     "execution_count": 8,
     "metadata": {},
     "output_type": "execute_result"
    }
   ],
   "source": [
    "# import required modules\n",
    "from mtpy.core.mt import MT\n",
    "import os\n",
    "\n",
    "# Define the path to your edi file and save path\n",
    "edi_file = r\"C:/mtpywin/mtpy/examples/data/edi_files_2/Synth00.edi\"\n",
    "savepath = r\"C:/tmp\"\n",
    "\n",
    "# Create an MT object\n",
    "mt_obj = MT(edi_file)\n",
    "\n",
    "# First, define a frequency array:\n",
    "# Every second frequency:\n",
    "new_freq_list = mt_obj.Z.freq[::2] \n",
    "\n",
    "# OR 5 periods per decade from 10^-4 to 10^3 seconds\n",
    "from mtpy.utils.calculator import get_period_list\n",
    "new_freq_list = 1./get_period_list(1e-4,1e3,5)\n",
    "\n",
    "# Create new Z and Tipper objects containing interpolated data\n",
    "new_Z_obj, new_Tipper_obj = mt_obj.interpolate(new_freq_list)\n",
    "\n",
    "# Write a new edi file using the new data\n",
    "mt_obj.write_mt_file(\n",
    "            save_dir=savepath, \n",
    "            fn_basename='Synth00_5ppd', \n",
    "            file_type='edi',\n",
    "            new_Z_obj=new_Z_obj, # provide a z object to update the data\n",
    "            new_Tipper_obj=new_Tipper_obj, # provide a tipper object\n",
    "            longitude_format='LONG', # write longitudes as 'LONG' not ‘LON’\n",
    "            latlon_format='dd'# write as decimal degrees (any other input\n",
    "                              # will write as degrees:minutes:seconds\n",
    "            )"
   ]
  }
 ],
 "metadata": {
  "kernelspec": {
   "display_name": "Python 3",
   "language": "python",
   "name": "python3"
  },
  "language_info": {
   "codemirror_mode": {
    "name": "ipython",
    "version": 3
   },
   "file_extension": ".py",
   "mimetype": "text/x-python",
   "name": "python",
   "nbconvert_exporter": "python",
   "pygments_lexer": "ipython3",
   "version": "3.7.3"
  }
 },
 "nbformat": 4,
 "nbformat_minor": 2
}
