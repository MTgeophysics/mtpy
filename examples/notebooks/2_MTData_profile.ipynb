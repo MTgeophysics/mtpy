{
 "cells": [
  {
   "cell_type": "markdown",
   "id": "e5bb81cd-874e-4abd-a620-581caef22fc1",
   "metadata": {},
   "source": [
    "# MTData: Profile Example\n",
    "\n",
    "Now that we've created an `MTCollection` object we can use it to do the more interesting things, like analyze strike, plot phase tensors, create inputs for modeling programs."
   ]
  },
  {
   "cell_type": "markdown",
   "id": "57dcdd50-4673-4ac0-bd5c-e12ea9d470c1",
   "metadata": {},
   "source": [
    "## 1. Open Collection\n",
    "\n",
    "In the previous notebook we created an `MTCollection` object called `test_mt_collection.h5`.  Lets open it and get the profile."
   ]
  },
  {
   "cell_type": "code",
   "execution_count": 1,
   "id": "eec9730d-ba5a-4c9c-9aef-b05e9dcc4b7e",
   "metadata": {},
   "outputs": [
    {
     "name": "stderr",
     "output_type": "stream",
     "text": [
      "2023-04-13 15:58:37,158 [line 135] mth5.setup_logger - INFO: Logging file can be found C:\\Users\\jpeacock\\OneDrive - DOI\\Documents\\GitHub\\mth5\\logs\\mth5_debug.log\n"
     ]
    }
   ],
   "source": [
    "from pathlib import Path\n",
    "\n",
    "from mtpy import MTCollection"
   ]
  },
  {
   "cell_type": "code",
   "execution_count": 2,
   "id": "f2045029-fac1-46ad-98d8-67b8933abf34",
   "metadata": {},
   "outputs": [],
   "source": [
    "mtc = MTCollection()\n",
    "mtc.open_collection(Path().cwd().joinpath(\"test_mt_collection.h5\"))"
   ]
  },
  {
   "cell_type": "code",
   "execution_count": 3,
   "id": "4ae3e45d-031f-4781-aee2-a2fd3b8fabac",
   "metadata": {},
   "outputs": [],
   "source": [
    "mtc.working_dataframe = mtc.master_dataframe.loc[\n",
    "    mtc.master_dataframe.survey == \"profile\"\n",
    "].query('station.str.startswith(\"15\")')"
   ]
  },
  {
   "cell_type": "code",
   "execution_count": 4,
   "id": "d7ea45ba-44bf-4c5c-9a3e-0c6d9a68af72",
   "metadata": {},
   "outputs": [
    {
     "data": {
      "text/html": [
       "<div>\n",
       "<style scoped>\n",
       "    .dataframe tbody tr th:only-of-type {\n",
       "        vertical-align: middle;\n",
       "    }\n",
       "\n",
       "    .dataframe tbody tr th {\n",
       "        vertical-align: top;\n",
       "    }\n",
       "\n",
       "    .dataframe thead th {\n",
       "        text-align: right;\n",
       "    }\n",
       "</style>\n",
       "<table border=\"1\" class=\"dataframe\">\n",
       "  <thead>\n",
       "    <tr style=\"text-align: right;\">\n",
       "      <th></th>\n",
       "      <th>station</th>\n",
       "      <th>survey</th>\n",
       "      <th>latitude</th>\n",
       "      <th>longitude</th>\n",
       "      <th>elevation</th>\n",
       "      <th>tf_id</th>\n",
       "      <th>units</th>\n",
       "      <th>has_impedance</th>\n",
       "      <th>has_tipper</th>\n",
       "      <th>has_covariance</th>\n",
       "      <th>period_min</th>\n",
       "      <th>period_max</th>\n",
       "      <th>hdf5_reference</th>\n",
       "      <th>station_hdf5_reference</th>\n",
       "    </tr>\n",
       "  </thead>\n",
       "  <tbody>\n",
       "    <tr>\n",
       "      <th>59</th>\n",
       "      <td>15125A</td>\n",
       "      <td>profile</td>\n",
       "      <td>-22.370806</td>\n",
       "      <td>149.188639</td>\n",
       "      <td>200.0</td>\n",
       "      <td>15125A</td>\n",
       "      <td>none</td>\n",
       "      <td>True</td>\n",
       "      <td>True</td>\n",
       "      <td>False</td>\n",
       "      <td>0.000096</td>\n",
       "      <td>2.857143</td>\n",
       "      <td>&lt;HDF5 object reference&gt;</td>\n",
       "      <td>&lt;HDF5 object reference&gt;</td>\n",
       "    </tr>\n",
       "    <tr>\n",
       "      <th>60</th>\n",
       "      <td>15126A</td>\n",
       "      <td>profile</td>\n",
       "      <td>-22.370639</td>\n",
       "      <td>149.193500</td>\n",
       "      <td>200.0</td>\n",
       "      <td>15126A</td>\n",
       "      <td>none</td>\n",
       "      <td>True</td>\n",
       "      <td>True</td>\n",
       "      <td>False</td>\n",
       "      <td>0.000096</td>\n",
       "      <td>2.857143</td>\n",
       "      <td>&lt;HDF5 object reference&gt;</td>\n",
       "      <td>&lt;HDF5 object reference&gt;</td>\n",
       "    </tr>\n",
       "    <tr>\n",
       "      <th>61</th>\n",
       "      <td>15127A</td>\n",
       "      <td>profile</td>\n",
       "      <td>-22.371028</td>\n",
       "      <td>149.198417</td>\n",
       "      <td>201.0</td>\n",
       "      <td>15127A</td>\n",
       "      <td>none</td>\n",
       "      <td>True</td>\n",
       "      <td>True</td>\n",
       "      <td>False</td>\n",
       "      <td>0.000096</td>\n",
       "      <td>2.857143</td>\n",
       "      <td>&lt;HDF5 object reference&gt;</td>\n",
       "      <td>&lt;HDF5 object reference&gt;</td>\n",
       "    </tr>\n",
       "    <tr>\n",
       "      <th>62</th>\n",
       "      <td>15128A</td>\n",
       "      <td>profile</td>\n",
       "      <td>-22.370861</td>\n",
       "      <td>149.203306</td>\n",
       "      <td>200.0</td>\n",
       "      <td>15128A</td>\n",
       "      <td>none</td>\n",
       "      <td>True</td>\n",
       "      <td>True</td>\n",
       "      <td>False</td>\n",
       "      <td>0.000096</td>\n",
       "      <td>2.857143</td>\n",
       "      <td>&lt;HDF5 object reference&gt;</td>\n",
       "      <td>&lt;HDF5 object reference&gt;</td>\n",
       "    </tr>\n",
       "    <tr>\n",
       "      <th>63</th>\n",
       "      <td>15129A</td>\n",
       "      <td>profile</td>\n",
       "      <td>-22.371083</td>\n",
       "      <td>149.208083</td>\n",
       "      <td>202.0</td>\n",
       "      <td>15129A</td>\n",
       "      <td>none</td>\n",
       "      <td>True</td>\n",
       "      <td>True</td>\n",
       "      <td>False</td>\n",
       "      <td>0.000096</td>\n",
       "      <td>2.857143</td>\n",
       "      <td>&lt;HDF5 object reference&gt;</td>\n",
       "      <td>&lt;HDF5 object reference&gt;</td>\n",
       "    </tr>\n",
       "    <tr>\n",
       "      <th>64</th>\n",
       "      <td>15130A</td>\n",
       "      <td>profile</td>\n",
       "      <td>-22.371222</td>\n",
       "      <td>149.212972</td>\n",
       "      <td>201.0</td>\n",
       "      <td>15130A</td>\n",
       "      <td>none</td>\n",
       "      <td>True</td>\n",
       "      <td>True</td>\n",
       "      <td>False</td>\n",
       "      <td>0.000096</td>\n",
       "      <td>2.857143</td>\n",
       "      <td>&lt;HDF5 object reference&gt;</td>\n",
       "      <td>&lt;HDF5 object reference&gt;</td>\n",
       "    </tr>\n",
       "  </tbody>\n",
       "</table>\n",
       "</div>"
      ],
      "text/plain": [
       "   station   survey   latitude   longitude  elevation   tf_id units  \\\n",
       "59  15125A  profile -22.370806  149.188639      200.0  15125A  none   \n",
       "60  15126A  profile -22.370639  149.193500      200.0  15126A  none   \n",
       "61  15127A  profile -22.371028  149.198417      201.0  15127A  none   \n",
       "62  15128A  profile -22.370861  149.203306      200.0  15128A  none   \n",
       "63  15129A  profile -22.371083  149.208083      202.0  15129A  none   \n",
       "64  15130A  profile -22.371222  149.212972      201.0  15130A  none   \n",
       "\n",
       "    has_impedance  has_tipper  has_covariance  period_min  period_max  \\\n",
       "59           True        True           False    0.000096    2.857143   \n",
       "60           True        True           False    0.000096    2.857143   \n",
       "61           True        True           False    0.000096    2.857143   \n",
       "62           True        True           False    0.000096    2.857143   \n",
       "63           True        True           False    0.000096    2.857143   \n",
       "64           True        True           False    0.000096    2.857143   \n",
       "\n",
       "             hdf5_reference   station_hdf5_reference  \n",
       "59  <HDF5 object reference>  <HDF5 object reference>  \n",
       "60  <HDF5 object reference>  <HDF5 object reference>  \n",
       "61  <HDF5 object reference>  <HDF5 object reference>  \n",
       "62  <HDF5 object reference>  <HDF5 object reference>  \n",
       "63  <HDF5 object reference>  <HDF5 object reference>  \n",
       "64  <HDF5 object reference>  <HDF5 object reference>  "
      ]
     },
     "execution_count": 4,
     "metadata": {},
     "output_type": "execute_result"
    }
   ],
   "source": [
    "mtc.working_dataframe"
   ]
  },
  {
   "cell_type": "markdown",
   "id": "a221ff21-dd82-4107-95db-ea78b906588d",
   "metadata": {},
   "source": [
    "## 2. Convert to MTData\n",
    "\n",
    "Now that we have the profile let's convert it to an `MTData` object."
   ]
  },
  {
   "cell_type": "code",
   "execution_count": 5,
   "id": "5b1b83f7-325a-4d92-8961-f63593e3f48c",
   "metadata": {},
   "outputs": [],
   "source": [
    "mtd = mtc.to_mt_data()"
   ]
  },
  {
   "cell_type": "markdown",
   "id": "542e9322-131f-43a6-a4d4-d1e2061d79e5",
   "metadata": {},
   "source": [
    "### 2a. Close MTCollection\n",
    "\n",
    "You can now close the MTCollection to make sure if something crashes the file won't get corrupt for unknown reasons."
   ]
  },
  {
   "cell_type": "code",
   "execution_count": 6,
   "id": "f80a3a0f-bf42-438b-9b72-950c4dfca540",
   "metadata": {},
   "outputs": [
    {
     "name": "stderr",
     "output_type": "stream",
     "text": [
      "2023-04-13 15:58:39,842 [line 755] mth5.mth5.MTH5.close_mth5 - INFO: Flushing and closing C:\\Users\\jpeacock\\OneDrive - DOI\\Documents\\GitHub\\mtpy\\examples\\notebooks\\test_mt_collection.h5\n"
     ]
    }
   ],
   "source": [
    "mtc.close_collection()"
   ]
  },
  {
   "cell_type": "code",
   "execution_count": 7,
   "id": "e641d863-6670-460d-8342-6d6b05d4320f",
   "metadata": {},
   "outputs": [
    {
     "data": {
      "text/plain": [
       "MTData([('profile.15125A',\n",
       "         TF( station='15125A', latitude=-22.37, longitude=149.19, elevation=200.00 )),\n",
       "        ('profile.15126A',\n",
       "         TF( station='15126A', latitude=-22.37, longitude=149.19, elevation=200.00 )),\n",
       "        ('profile.15127A',\n",
       "         TF( station='15127A', latitude=-22.37, longitude=149.20, elevation=201.00 )),\n",
       "        ('profile.15128A',\n",
       "         TF( station='15128A', latitude=-22.37, longitude=149.20, elevation=200.00 )),\n",
       "        ('profile.15129A',\n",
       "         TF( station='15129A', latitude=-22.37, longitude=149.21, elevation=202.00 )),\n",
       "        ('profile.15130A',\n",
       "         TF( station='15130A', latitude=-22.37, longitude=149.21, elevation=201.00 ))])"
      ]
     },
     "execution_count": 7,
     "metadata": {},
     "output_type": "execute_result"
    }
   ],
   "source": [
    "mtd"
   ]
  },
  {
   "cell_type": "markdown",
   "id": "baf67b93-b524-463d-bba4-ae99673e7a13",
   "metadata": {},
   "source": [
    "### 2b. Setting UTM CRS\n",
    "\n",
    "Its important to set the `MTData.utm_crs` attribute to make sure that stations can be projected into meters for plotting and creating model files.   You can do this a couple of ways either through the `utm_crs` method or if you know the `EPSG` number you can input that.  They should both do the same if you input the number.\n"
   ]
  },
  {
   "cell_type": "code",
   "execution_count": null,
   "id": "c3ac6d54-2ba1-4d9e-a288-0c1e749e7e65",
   "metadata": {},
   "outputs": [],
   "source": [
    "mtd.utm_crs = "
   ]
  },
  {
   "cell_type": "markdown",
   "id": "3dbebd9b-b105-4474-ba20-b1a0f26c4180",
   "metadata": {},
   "source": [
    "## 3. Plot Phase Tensor Pseudosection"
   ]
  },
  {
   "cell_type": "code",
   "execution_count": 8,
   "id": "5dcb938c-a2b5-4768-a729-ffed11c6a3b9",
   "metadata": {},
   "outputs": [
    {
     "ename": "ValueError",
     "evalue": "utm_crs is None, cannot project onto profile line.",
     "output_type": "error",
     "traceback": [
      "\u001b[1;31m---------------------------------------------------------------------------\u001b[0m",
      "\u001b[1;31mValueError\u001b[0m                                Traceback (most recent call last)",
      "\u001b[1;32m~\\AppData\\Local\\Temp\\1\\ipykernel_20288\\3643503572.py\u001b[0m in \u001b[0;36m<cell line: 1>\u001b[1;34m()\u001b[0m\n\u001b[1;32m----> 1\u001b[1;33m \u001b[0mptps_plot\u001b[0m \u001b[1;33m=\u001b[0m \u001b[0mmtd\u001b[0m\u001b[1;33m.\u001b[0m\u001b[0mplot_phase_tensor_pseudosection\u001b[0m\u001b[1;33m(\u001b[0m\u001b[1;33m)\u001b[0m\u001b[1;33m\u001b[0m\u001b[1;33m\u001b[0m\u001b[0m\n\u001b[0m",
      "\u001b[1;32m~\\OneDrive - DOI\\Documents\\GitHub\\mtpy\\mtpy\\core\\mt_data.py\u001b[0m in \u001b[0;36mplot_phase_tensor_pseudosection\u001b[1;34m(self, mt_data, **kwargs)\u001b[0m\n\u001b[0;32m    705\u001b[0m         \"\"\"\n\u001b[0;32m    706\u001b[0m \u001b[1;33m\u001b[0m\u001b[0m\n\u001b[1;32m--> 707\u001b[1;33m         \u001b[1;32mreturn\u001b[0m \u001b[0mPlotPhaseTensorPseudoSection\u001b[0m\u001b[1;33m(\u001b[0m\u001b[0mmt_data\u001b[0m\u001b[1;33m=\u001b[0m\u001b[0mself\u001b[0m\u001b[1;33m,\u001b[0m \u001b[1;33m**\u001b[0m\u001b[0mkwargs\u001b[0m\u001b[1;33m)\u001b[0m\u001b[1;33m\u001b[0m\u001b[1;33m\u001b[0m\u001b[0m\n\u001b[0m\u001b[0;32m    708\u001b[0m \u001b[1;33m\u001b[0m\u001b[0m\n\u001b[0;32m    709\u001b[0m     def plot_penetration_depth_1d(\n",
      "\u001b[1;32m~\\OneDrive - DOI\\Documents\\GitHub\\mtpy\\mtpy\\imaging\\plot_phase_tensor_pseudosection.py\u001b[0m in \u001b[0;36m__init__\u001b[1;34m(self, mt_data, **kwargs)\u001b[0m\n\u001b[0;32m     99\u001b[0m \u001b[1;33m\u001b[0m\u001b[0m\n\u001b[0;32m    100\u001b[0m         \u001b[1;32mif\u001b[0m \u001b[0mself\u001b[0m\u001b[1;33m.\u001b[0m\u001b[0mshow_plot\u001b[0m\u001b[1;33m:\u001b[0m\u001b[1;33m\u001b[0m\u001b[1;33m\u001b[0m\u001b[0m\n\u001b[1;32m--> 101\u001b[1;33m             \u001b[0mself\u001b[0m\u001b[1;33m.\u001b[0m\u001b[0mplot\u001b[0m\u001b[1;33m(\u001b[0m\u001b[1;33m)\u001b[0m\u001b[1;33m\u001b[0m\u001b[1;33m\u001b[0m\u001b[0m\n\u001b[0m\u001b[0;32m    102\u001b[0m \u001b[1;33m\u001b[0m\u001b[0m\n\u001b[0;32m    103\u001b[0m     \u001b[1;32mdef\u001b[0m \u001b[0m_get_patch\u001b[0m\u001b[1;33m(\u001b[0m\u001b[0mself\u001b[0m\u001b[1;33m,\u001b[0m \u001b[0mtf\u001b[0m\u001b[1;33m)\u001b[0m\u001b[1;33m:\u001b[0m\u001b[1;33m\u001b[0m\u001b[1;33m\u001b[0m\u001b[0m\n",
      "\u001b[1;32m~\\OneDrive - DOI\\Documents\\GitHub\\mtpy\\mtpy\\imaging\\plot_phase_tensor_pseudosection.py\u001b[0m in \u001b[0;36mplot\u001b[1;34m(self)\u001b[0m\n\u001b[0;32m    341\u001b[0m         \u001b[0mself\u001b[0m\u001b[1;33m.\u001b[0m\u001b[0max\u001b[0m \u001b[1;33m=\u001b[0m \u001b[0mself\u001b[0m\u001b[1;33m.\u001b[0m\u001b[0mfig\u001b[0m\u001b[1;33m.\u001b[0m\u001b[0madd_subplot\u001b[0m\u001b[1;33m(\u001b[0m\u001b[1;36m1\u001b[0m\u001b[1;33m,\u001b[0m \u001b[1;36m1\u001b[0m\u001b[1;33m,\u001b[0m \u001b[1;36m1\u001b[0m\u001b[1;33m,\u001b[0m \u001b[0maspect\u001b[0m\u001b[1;33m=\u001b[0m\u001b[1;34m\"equal\"\u001b[0m\u001b[1;33m)\u001b[0m\u001b[1;33m\u001b[0m\u001b[1;33m\u001b[0m\u001b[0m\n\u001b[0;32m    342\u001b[0m \u001b[1;33m\u001b[0m\u001b[0m\n\u001b[1;32m--> 343\u001b[1;33m         \u001b[0mself\u001b[0m\u001b[1;33m.\u001b[0m\u001b[0m_get_profile_line\u001b[0m\u001b[1;33m(\u001b[0m\u001b[1;33m)\u001b[0m\u001b[1;33m\u001b[0m\u001b[1;33m\u001b[0m\u001b[0m\n\u001b[0m\u001b[0;32m    344\u001b[0m \u001b[1;33m\u001b[0m\u001b[0m\n\u001b[0;32m    345\u001b[0m         \u001b[0my_min\u001b[0m \u001b[1;33m=\u001b[0m \u001b[1;36m1\u001b[0m\u001b[1;33m\u001b[0m\u001b[1;33m\u001b[0m\u001b[0m\n",
      "\u001b[1;32m~\\OneDrive - DOI\\Documents\\GitHub\\mtpy\\mtpy\\imaging\\mtplot_tools\\base.py\u001b[0m in \u001b[0;36m_get_profile_line\u001b[1;34m(self, x, y)\u001b[0m\n\u001b[0;32m    662\u001b[0m \u001b[1;33m\u001b[0m\u001b[0m\n\u001b[0;32m    663\u001b[0m         \u001b[1;32mfor\u001b[0m \u001b[0mmt_obj\u001b[0m \u001b[1;32min\u001b[0m \u001b[0mself\u001b[0m\u001b[1;33m.\u001b[0m\u001b[0mmt_data\u001b[0m\u001b[1;33m.\u001b[0m\u001b[0mvalues\u001b[0m\u001b[1;33m(\u001b[0m\u001b[1;33m)\u001b[0m\u001b[1;33m:\u001b[0m\u001b[1;33m\u001b[0m\u001b[1;33m\u001b[0m\u001b[0m\n\u001b[1;32m--> 664\u001b[1;33m             mt_obj.project_onto_profile_line(\n\u001b[0m\u001b[0;32m    665\u001b[0m                 \u001b[0mself\u001b[0m\u001b[1;33m.\u001b[0m\u001b[0mprofile_line\u001b[0m\u001b[1;33m[\u001b[0m\u001b[1;36m0\u001b[0m\u001b[1;33m]\u001b[0m\u001b[1;33m,\u001b[0m \u001b[0mself\u001b[0m\u001b[1;33m.\u001b[0m\u001b[0mprofile_line\u001b[0m\u001b[1;33m[\u001b[0m\u001b[1;36m1\u001b[0m\u001b[1;33m]\u001b[0m\u001b[1;33m\u001b[0m\u001b[1;33m\u001b[0m\u001b[0m\n\u001b[0;32m    666\u001b[0m             )\n",
      "\u001b[1;32m~\\OneDrive - DOI\\Documents\\GitHub\\mtpy\\mtpy\\core\\mt_location.py\u001b[0m in \u001b[0;36mproject_onto_profile_line\u001b[1;34m(self, profile_slope, profile_intersection)\u001b[0m\n\u001b[0;32m    344\u001b[0m \u001b[1;33m\u001b[0m\u001b[0m\n\u001b[0;32m    345\u001b[0m         \u001b[1;32mif\u001b[0m \u001b[0mself\u001b[0m\u001b[1;33m.\u001b[0m\u001b[0mutm_crs\u001b[0m \u001b[1;32mis\u001b[0m \u001b[1;32mNone\u001b[0m\u001b[1;33m:\u001b[0m\u001b[1;33m\u001b[0m\u001b[1;33m\u001b[0m\u001b[0m\n\u001b[1;32m--> 346\u001b[1;33m             raise ValueError(\n\u001b[0m\u001b[0;32m    347\u001b[0m                 \u001b[1;34m\"utm_crs is None, cannot project onto profile line.\"\u001b[0m\u001b[1;33m\u001b[0m\u001b[1;33m\u001b[0m\u001b[0m\n\u001b[0;32m    348\u001b[0m             )\n",
      "\u001b[1;31mValueError\u001b[0m: utm_crs is None, cannot project onto profile line."
     ]
    },
    {
     "data": {
      "image/png": "[encoded data removed]",
      "text/plain": [
       "<Figure size 900x600 with 1 Axes>"
      ]
     },
     "metadata": {
      "needs_background": "light"
     },
     "output_type": "display_data"
    }
   ],
   "source": [
    "ptps_plot = mtd.plot_phase_tensor_pseudosection()"
   ]
  },
  {
   "cell_type": "code",
   "execution_count": null,
   "id": "7a50867a-4eac-4914-a939-06b69dc23e1e",
   "metadata": {},
   "outputs": [],
   "source": [
    "ptps_plot.x_stretch = 100000000\n",
    "ptps_plot.redraw_plot()"
   ]
  },
  {
   "cell_type": "code",
   "execution_count": null,
   "id": "7a546dd9-f0a0-4f36-b5ec-578a6b71656b",
   "metadata": {},
   "outputs": [],
   "source": [
    "ptps_plot.mt_data.station_locations.profile_offset"
   ]
  },
  {
   "cell_type": "code",
   "execution_count": null,
   "id": "29d69ef4-8e7b-4a10-ac7e-8c3c986a1ce8",
   "metadata": {},
   "outputs": [],
   "source": [
    "for a in ptps_plot.mt_data.values():\n",
    "    a.project_onto_profile_line(ptps_plot.profile_line[0], ptps_plot.profile_line[1])\n",
    "    print(a.profile_offset, a.longitude, a.latitude, a.east, a.north)"
   ]
  },
  {
   "cell_type": "code",
   "execution_count": null,
   "id": "7abd371d-1117-4ea0-9319-f50b04c2d004",
   "metadata": {},
   "outputs": [],
   "source": []
  }
 ],
 "metadata": {
  "kernelspec": {
   "display_name": "Python 3 (ipykernel)",
   "language": "python",
   "name": "python3"
  },
  "language_info": {
   "codemirror_mode": {
    "name": "ipython",
    "version": 3
   },
   "file_extension": ".py",
   "mimetype": "text/x-python",
   "name": "python",
   "nbconvert_exporter": "python",
   "pygments_lexer": "ipython3",
   "version": "3.8.13"
  }
 },
 "nbformat": 4,
 "nbformat_minor": 5
}
