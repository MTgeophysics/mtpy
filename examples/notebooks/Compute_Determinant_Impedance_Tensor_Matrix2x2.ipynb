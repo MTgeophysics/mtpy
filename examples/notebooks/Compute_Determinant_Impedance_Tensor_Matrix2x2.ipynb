{
 "cells": [
  {
   "cell_type": "markdown",
   "metadata": {},
   "source": [
    "# Compare two ways of computing the determinant of impedance tensor \n",
    "## for penetration depth calculation"
   ]
  },
  {
   "cell_type": "markdown",
   "metadata": {},
   "source": [
    "### The impedance tensor output file CSV z_average_impedance_1.016Hz.csv \n",
    "\n",
    "#### FREQ,STATION,LON,LAT,ZXXre,ZXXim,ZXYre,ZXYim,ZYXre,ZYXim,ZYYre,ZYYim,ABS(DETERM)\n",
    "1.016,ET122,136.25224305555557,-19.298750000000002,13.89,-0.6293,53.55,21.2,-50.15,-15.51,-26.33,5.284,2812.899709570219\n",
    "1.016,ET055,135.92721555555553,-19.48168361111111,28.52,6.487,90.02,9.162,-64.11,-37.16,-38.63,2.689,5719.848872642173\n",
    "1.016,ET126,136.51921083333335,-19.55435,-7.603,0.5864,49.45,21.6,-46.9,-17.26,3.739,-2.084,2689.7811605395627\n",
    "1.016,ET103,136.1969452777778,-19.40961638888889,70.15,14.59,134.7,90.61,-82.95,-60.54,-35.89,-9.908,14827.411103088876\n",
    "1.016,ET072,136.23368833333333,-19.766649166666667,23.5,-9.391,64.64,50.87,-67.29,-32.35,-3.774,9.967,6386.750598438955\n",
    "1.016,ET10n,136.1261138888889,-19.572650833333334,26.4,26.42,73.3,66.81,-106.1,-61.49,-39.91,-32.95,10280.493317683608\n",
    "1.016,ET054,135.90553277777778,-19.46841611111111,34.18,11.66,79.15,13.18,-55.68,-26.3,-15.8,2.264,4420.957044021227\n",
    "1.016,ET012,135.53540027777777,-19.468116666666663,-2.997,-3.322,66.26,17.22,-34.19,-13.05,4.331,7.564,2494.067455470257\n",
    "1.016,ET092,135.95520027777778,-19.196683888888888,9.148,-0.6583,64.43,13.74,-29.56,-17.67,-17.45,-0.6379,2158.360913903449\n"
   ]
  },
  {
   "cell_type": "code",
   "execution_count": 1,
   "metadata": {},
   "outputs": [],
   "source": [
    "from scipy import linalg\n",
    "import numpy as np\n",
    "\n",
    "# a = np.array([[1,2],[3,4]]) # A real-numbered matrix"
   ]
  },
  {
   "cell_type": "code",
   "execution_count": 2,
   "metadata": {},
   "outputs": [
    {
     "name": "stdout",
     "output_type": "stream",
     "text": [
      "the determinant of the matrix is a complex number: (1994.3220211999997+1983.7047289999996j)\n"
     ]
    },
    {
     "data": {
      "text/plain": [
       "2812.8997095702175"
      ]
     },
     "execution_count": 2,
     "metadata": {},
     "output_type": "execute_result"
    }
   ],
   "source": [
    "# Method-1: treat the tensor as a complex-numbered 2X2 matrix\n",
    "\n",
    "a =np.array([[(13.89-0.6293J),(53.55+21.2J)],[-50.15-15.51J,-26.33+5.284J]])\n",
    "\n",
    "determ = linalg.det(a)\n",
    "\n",
    "print(\"the determinant of the matrix is a complex number:\", determ)\n",
    "\n",
    "# the abslute value of the complex determinant\n",
    "np.abs(determ)  "
   ]
  },
  {
   "cell_type": "code",
   "execution_count": 3,
   "metadata": {},
   "outputs": [
    {
     "data": {
      "text/plain": [
       "array([[13.90424822, 57.59377136],\n",
       "       [52.49364342, 26.85497265]])"
      ]
     },
     "execution_count": 3,
     "metadata": {},
     "output_type": "execute_result"
    }
   ],
   "source": [
    "# Method-2: take the abslute value of each elemet of the tensor first,\n",
    "\n",
    "a2 = np.array([[np.abs(13.89-0.6293J),np.abs(53.55+21.2J)],[np.abs(-50.15-15.51J),np.abs(-26.33+5.284J)]])\n",
    "\n",
    "a2"
   ]
  },
  {
   "cell_type": "code",
   "execution_count": 4,
   "metadata": {},
   "outputs": [
    {
     "name": "stdout",
     "output_type": "stream",
     "text": [
      "the determinant of the matrix a2 is: -2649.908691910545\n",
      "Its abslute value is  2649.908691910545\n"
     ]
    }
   ],
   "source": [
    "# then compute the determinant of the new matrix a2\n",
    "determ2 = linalg.det(a2)\n",
    "print(\"the determinant of the matrix a2 is:\", determ2)\n",
    "print(\"Its abslute value is \", np.abs(determ2))"
   ]
  },
  {
   "cell_type": "code",
   "execution_count": 5,
   "metadata": {},
   "outputs": [
    {
     "name": "stdout",
     "output_type": "stream",
     "text": [
      "The two values differ:  2812.8997095702175 2649.908691910545\n"
     ]
    }
   ],
   "source": [
    "print(\"The two values differ: \",  np.abs(determ),  np.abs(determ2))"
   ]
  },
  {
   "cell_type": "code",
   "execution_count": null,
   "metadata": {},
   "outputs": [],
   "source": []
  },
  {
   "cell_type": "code",
   "execution_count": null,
   "metadata": {},
   "outputs": [],
   "source": []
  }
 ],
 "metadata": {
  "kernelspec": {
   "display_name": "Python 3",
   "language": "python",
   "name": "python3"
  },
  "language_info": {
   "codemirror_mode": {
    "name": "ipython",
    "version": 3
   },
   "file_extension": ".py",
   "mimetype": "text/x-python",
   "name": "python",
   "nbconvert_exporter": "python",
   "pygments_lexer": "ipython3",
   "version": "3.7.6"
  }
 },
 "nbformat": 4,
 "nbformat_minor": 4
}
