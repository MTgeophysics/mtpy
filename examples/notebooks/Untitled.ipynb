{
 "cells": [
  {
   "cell_type": "markdown",
   "id": "641859ba-58ee-43d6-a2d8-69dbffe4d5eb",
   "metadata": {},
   "source": [
    "# MT Object\n",
    "\n",
    "MT transfer functions come in all kinds of formats and flavors.  The goal of `MT` is to centralize and standardize an MT transfer function with common metadata and accessibility to the data.  `MT` inherits [`mt_metadata.transfer_function.core.TF`](https://mt-metadata.readthedocs.io/en/latest/source/tf_structure.html) which has the ability to read/write in various file types. If there is a file type that is not supported yet raise an [issue in mt-metadata](https://github.com/kujaku11/mt_metadata/issues). \n",
    "\n",
    "| Format | Description | Extension | Read | Write |\n",
    "|--------|-------------|-----------|------|-------|\n",
    "| EDI | Common [SEG format](https://library.seg.org/doi/abs/10.1190/1.1892244) | .edi | yes | yes |\n",
    "| EMTF XML | Anna Kelbert's [XML Format](https://library.seg.org/doi/10.1190/geo2018-0679.1) for archiving at [IRIS](https://eos.org/science-updates/taking-magnetotelluric-data-out-of-the-drawer) | .xml | yes | yes |\n",
    "| Z-Files | Output from Gary Egberts processing code | .zmm, .zss, .zrr | yes | yes |\n",
    "| J-Files | Alan Jones' format and output of Alan Chave's BIRRP code | .j | yes | no |\n",
    "| Zonge AVG | Zonge International processing code output | .avg | yes | no |\n",
    "\n",
    "The `MT` has a couple of important attributes and method that are described below as we progress through an example file.  Here we will look at an EMTF XML because this format has the most comprehensive metadata so far.\n"
   ]
  },
  {
   "cell_type": "code",
   "execution_count": 1,
   "id": "46874258-5a32-4cd4-9458-fa48fe91cce2",
   "metadata": {},
   "outputs": [
    {
     "name": "stderr",
     "output_type": "stream",
     "text": [
      "2023-04-21 11:37:28,139 [line 141] mth5.setup_logger - INFO: Logging file can be found C:\\Users\\jpeacock\\OneDrive - DOI\\Documents\\GitHub\\mth5\\logs\\mth5_debug.log\n"
     ]
    }
   ],
   "source": [
    "from mtpy import MT\n",
    "from mt_metadata import TF_XML"
   ]
  },
  {
   "cell_type": "code",
   "execution_count": 2,
   "id": "7c9f3ca3-cf36-4535-8ff1-82ee5a8f3360",
   "metadata": {},
   "outputs": [],
   "source": [
    "mt_object = MT(TF_XML)\n",
    "mt_object.read_tf_file()"
   ]
  },
  {
   "cell_type": "markdown",
   "id": "59bca91f-dddd-4314-9fba-e857d14a77fc",
   "metadata": {},
   "source": [
    "## TF Metadata\n",
    "\n",
    "Important in describing the transfer function are metadata attributes, namely the location, what survey the station was collected in, timing, and how the data were processed.  These are contained in logical metadata objects. For further reading on metadata objects see [MT-metadata](https://mt-metadata.readthedocs.io/en/latest/source/tf_structure.html)\n",
    "\n",
    " - `MT.survey_metadata`: describes the general survey details that this transfer function belongs to. \n",
    " - `MT.station_metadata`: describes the station location, timing, runs processed, processing scheme.\n",
    "   - `MT.station_metadata.transfer_function`: describes how the data were processed.\n",
    "   - `MT.station_metadata.runs`: provides details on the runs processed, timing, sample rate, channels recorded, data logger details.\n",
    "     - `MT.station_metadata.runs[run_id].channels`: describes channel metadata including timing, sensors, location."
   ]
  },
  {
   "cell_type": "markdown",
   "id": "e1313e82-649a-4364-838d-fd7ab3f26d4d",
   "metadata": {},
   "source": [
    "### Survey Metadata\n",
    "\n",
    "Survey metadata provides information about the survey ID, geographic locations, who aquired the data, is there a DOI associated with the data or publications, how the data can be used, licenses, and general information about the overall survey."
   ]
  },
  {
   "cell_type": "code",
   "execution_count": 3,
   "id": "5f665b59-9457-4df7-992a-a9b884c85a10",
   "metadata": {},
   "outputs": [
    {
     "data": {
      "text/plain": [
       "{\n",
       "    \"survey\": {\n",
       "        \"acquired_by.author\": \"National Geoelectromagnetic Facility\",\n",
       "        \"citation_dataset.doi\": \"doi:10.17611/DP/EMTF/USMTARRAY/SOUTH\",\n",
       "        \"citation_dataset.title\": \"USMTArray South Magnetotelluric Transfer Functions\",\n",
       "        \"citation_dataset.year\": \"2020-2023\",\n",
       "        \"citation_journal.doi\": null,\n",
       "        \"comments\": \"The USMTArray-CONUS South campaign was carried out through a cooperative agreement between\\nthe U.S. Geological Survey (USGS) and Oregon State University (OSU). A subset of 40 stations\\nin the SW US were funded through NASA grant 80NSSC19K0232.\\nLand permitting, data acquisition, quality control and field processing were\\ncarried out by Green Geophysics with project management and instrument/engineering\\nsupport from OSU and Chaytus Engineering, respectively.\\nProgram oversight, definitive data processing and data archiving were provided\\nby the USGS Geomagnetism Program and the Geology, Geophysics and Geochemistry Science Centers.\\nWe thank the U.S. Forest Service, the Bureau of Land Management, the National Park Service,\\nthe Department of Defense, numerous state land offices and the many private landowners\\nwho permitted land access to acquire the USMTArray data.\",\n",
       "        \"country\": [\n",
       "            \"USA\"\n",
       "        ],\n",
       "        \"datum\": \"WGS84\",\n",
       "        \"geographic_name\": \"CONUS South\",\n",
       "        \"id\": \"CONUS South\",\n",
       "        \"name\": null,\n",
       "        \"northwest_corner.latitude\": 0.0,\n",
       "        \"northwest_corner.longitude\": 0.0,\n",
       "        \"project\": \"USMTArray\",\n",
       "        \"project_lead.email\": null,\n",
       "        \"project_lead.organization\": null,\n",
       "        \"release_license\": \"CC0-1.0\",\n",
       "        \"southeast_corner.latitude\": 0.0,\n",
       "        \"southeast_corner.longitude\": 0.0,\n",
       "        \"summary\": \"Magnetotelluric Transfer Functions\",\n",
       "        \"time_period.end_date\": \"2020-10-07\",\n",
       "        \"time_period.start_date\": \"2020-09-20\"\n",
       "    }\n",
       "}"
      ]
     },
     "execution_count": 3,
     "metadata": {},
     "output_type": "execute_result"
    }
   ],
   "source": [
    "mt_object.survey_metadata"
   ]
  },
  {
   "cell_type": "markdown",
   "id": "7ebd5b7f-0b5d-4cdb-b679-2a2eff80d38e",
   "metadata": {},
   "source": [
    "### Station Metadata\n",
    "\n",
    "Station metadata is the most important to describe the transfer function, it provides ID, location, timing and then specifics on how the data were processed, run metadata, and channel metadata."
   ]
  },
  {
   "cell_type": "code",
   "execution_count": 4,
   "id": "19546ab0-e45b-4a71-aeda-fa458a0ce536",
   "metadata": {},
   "outputs": [
    {
     "data": {
      "text/plain": [
       "{\n",
       "    \"station\": {\n",
       "        \"acquired_by.author\": \"National Geoelectromagnetic Facility\",\n",
       "        \"channels_recorded\": [\n",
       "            \"ex\",\n",
       "            \"ey\",\n",
       "            \"hx\",\n",
       "            \"hy\",\n",
       "            \"hz\"\n",
       "        ],\n",
       "        \"data_type\": \"mt\",\n",
       "        \"fdsn.id\": \"USMTArray.NMX20.2020\",\n",
       "        \"geographic_name\": \"Nations Draw, NM, USA\",\n",
       "        \"id\": \"NMX20\",\n",
       "        \"location.datum\": \"WGS84\",\n",
       "        \"location.declination.epoch\": \"2020.0\",\n",
       "        \"location.declination.model\": \"WMM\",\n",
       "        \"location.declination.value\": 9.09,\n",
       "        \"location.elevation\": 1940.05,\n",
       "        \"location.latitude\": 34.470528,\n",
       "        \"location.longitude\": -108.712288,\n",
       "        \"orientation.angle_to_geographic_north\": 0.0,\n",
       "        \"orientation.method\": null,\n",
       "        \"orientation.reference_frame\": \"geographic\",\n",
       "        \"provenance.creation_time\": \"2021-03-17T14:47:44+00:00\",\n",
       "        \"provenance.software.author\": null,\n",
       "        \"provenance.software.name\": \"EMTF File Conversion Utilities 4.0\",\n",
       "        \"provenance.software.version\": null,\n",
       "        \"provenance.submitter.author\": \"Anna Kelbert\",\n",
       "        \"provenance.submitter.email\": \"akelbert@usgs.gov\",\n",
       "        \"provenance.submitter.organization\": \"U.S. Geological Survey, Geomagnetism Program\",\n",
       "        \"release_license\": \"CC0-1.0\",\n",
       "        \"run_list\": [\n",
       "            \"NMX20a\",\n",
       "            \"NMX20b\"\n",
       "        ],\n",
       "        \"time_period.end\": \"2020-10-07T20:28:00+00:00\",\n",
       "        \"time_period.start\": \"2020-09-20T19:03:06+00:00\",\n",
       "        \"transfer_function.coordinate_system\": \"geopgraphic\",\n",
       "        \"transfer_function.id\": \"NMX20\",\n",
       "        \"transfer_function.processed_date\": null,\n",
       "        \"transfer_function.processing_parameters\": [\n",
       "            \"{type: None}\"\n",
       "        ],\n",
       "        \"transfer_function.remote_references\": [\n",
       "            \"NMX20b\",\n",
       "            \"NMX20\",\n",
       "            \"NMW20\",\n",
       "            \"COR21\",\n",
       "            \"NMY21-NMX20b\",\n",
       "            \"NMX20\",\n",
       "            \"UTS18\"\n",
       "        ],\n",
       "        \"transfer_function.runs_processed\": [\n",
       "            \"NMX20a\",\n",
       "            \"NMX20b\"\n",
       "        ],\n",
       "        \"transfer_function.sign_convention\": \"exp(+ i\\\\omega t)\",\n",
       "        \"transfer_function.units\": null\n",
       "    }\n",
       "}"
      ]
     },
     "execution_count": 4,
     "metadata": {},
     "output_type": "execute_result"
    }
   ],
   "source": [
    "mt_object.station_metadata"
   ]
  },
  {
   "cell_type": "markdown",
   "id": "e2f92563-8d0a-4108-82be-2b2df3b364c2",
   "metadata": {},
   "source": [
    "#### Run Metadata\n",
    "\n",
    "Run metadata is located in `MT.station_metadata.runs` which is a list-dictionary object that contains the runs used for processing. "
   ]
  },
  {
   "cell_type": "code",
   "execution_count": 5,
   "id": "5d07572e-f0a8-4bf3-a146-a269b4262aaf",
   "metadata": {},
   "outputs": [
    {
     "data": {
      "text/plain": [
       "[{\n",
       "     \"run\": {\n",
       "         \"channels_recorded_auxiliary\": [],\n",
       "         \"channels_recorded_electric\": [\n",
       "             \"ex\",\n",
       "             \"ey\"\n",
       "         ],\n",
       "         \"channels_recorded_magnetic\": [\n",
       "             \"hx\",\n",
       "             \"hy\",\n",
       "             \"hz\"\n",
       "         ],\n",
       "         \"data_logger.firmware.author\": null,\n",
       "         \"data_logger.firmware.name\": null,\n",
       "         \"data_logger.firmware.version\": null,\n",
       "         \"data_logger.id\": \"2612-01\",\n",
       "         \"data_logger.manufacturer\": \"Barry Narod\",\n",
       "         \"data_logger.timing_system.drift\": 0.0,\n",
       "         \"data_logger.timing_system.type\": \"GPS\",\n",
       "         \"data_logger.timing_system.uncertainty\": 0.0,\n",
       "         \"data_logger.type\": \"NIMS\",\n",
       "         \"data_type\": \"BBMT\",\n",
       "         \"id\": \"NMX20a\",\n",
       "         \"sample_rate\": 1.0,\n",
       "         \"time_period.end\": \"2020-09-20T19:29:28+00:00\",\n",
       "         \"time_period.start\": \"2020-09-20T19:03:06+00:00\"\n",
       "     }\n",
       " },\n",
       " {\n",
       "     \"run\": {\n",
       "         \"channels_recorded_auxiliary\": [],\n",
       "         \"channels_recorded_electric\": [\n",
       "             \"ex\",\n",
       "             \"ey\"\n",
       "         ],\n",
       "         \"channels_recorded_magnetic\": [\n",
       "             \"hx\",\n",
       "             \"hy\",\n",
       "             \"hz\"\n",
       "         ],\n",
       "         \"data_logger.firmware.author\": null,\n",
       "         \"data_logger.firmware.name\": null,\n",
       "         \"data_logger.firmware.version\": null,\n",
       "         \"data_logger.id\": \"2612-01\",\n",
       "         \"data_logger.manufacturer\": \"Barry Narod\",\n",
       "         \"data_logger.timing_system.drift\": 0.0,\n",
       "         \"data_logger.timing_system.type\": \"GPS\",\n",
       "         \"data_logger.timing_system.uncertainty\": 0.0,\n",
       "         \"data_logger.type\": \"NIMS\",\n",
       "         \"data_type\": \"BBMT\",\n",
       "         \"id\": \"NMX20b\",\n",
       "         \"sample_rate\": 1.0,\n",
       "         \"time_period.end\": \"2020-10-07T20:28:00+00:00\",\n",
       "         \"time_period.start\": \"2020-09-20T20:12:29+00:00\"\n",
       "     }\n",
       " }]"
      ]
     },
     "execution_count": 5,
     "metadata": {},
     "output_type": "execute_result"
    }
   ],
   "source": [
    "mt_object.station_metadata.runs"
   ]
  },
  {
   "cell_type": "markdown",
   "id": "d4a243d8-3b37-461c-8350-0ba1bca1bded",
   "metadata": {},
   "source": [
    "To access a single run you can use either the index of the run or the `run.id`"
   ]
  },
  {
   "cell_type": "code",
   "execution_count": 7,
   "id": "eecddbd6-3edc-4f80-b44b-7ac614ac9795",
   "metadata": {},
   "outputs": [
    {
     "data": {
      "text/plain": [
       "{\n",
       "    \"run\": {\n",
       "        \"channels_recorded_auxiliary\": [],\n",
       "        \"channels_recorded_electric\": [\n",
       "            \"ex\",\n",
       "            \"ey\"\n",
       "        ],\n",
       "        \"channels_recorded_magnetic\": [\n",
       "            \"hx\",\n",
       "            \"hy\",\n",
       "            \"hz\"\n",
       "        ],\n",
       "        \"data_logger.firmware.author\": null,\n",
       "        \"data_logger.firmware.name\": null,\n",
       "        \"data_logger.firmware.version\": null,\n",
       "        \"data_logger.id\": \"2612-01\",\n",
       "        \"data_logger.manufacturer\": \"Barry Narod\",\n",
       "        \"data_logger.timing_system.drift\": 0.0,\n",
       "        \"data_logger.timing_system.type\": \"GPS\",\n",
       "        \"data_logger.timing_system.uncertainty\": 0.0,\n",
       "        \"data_logger.type\": \"NIMS\",\n",
       "        \"data_type\": \"BBMT\",\n",
       "        \"id\": \"NMX20a\",\n",
       "        \"sample_rate\": 1.0,\n",
       "        \"time_period.end\": \"2020-09-20T19:29:28+00:00\",\n",
       "        \"time_period.start\": \"2020-09-20T19:03:06+00:00\"\n",
       "    }\n",
       "}"
      ]
     },
     "execution_count": 7,
     "metadata": {},
     "output_type": "execute_result"
    }
   ],
   "source": [
    "mt_object.station_metadata.runs[0]"
   ]
  },
  {
   "cell_type": "code",
   "execution_count": 8,
   "id": "61957471-24e2-4a62-b849-2d2f9eac290c",
   "metadata": {},
   "outputs": [
    {
     "ename": "TypeError",
     "evalue": "list indices must be integers or slices, not str",
     "output_type": "error",
     "traceback": [
      "\u001b[1;31m---------------------------------------------------------------------------\u001b[0m",
      "\u001b[1;31mTypeError\u001b[0m                                 Traceback (most recent call last)",
      "\u001b[1;32m~\\AppData\\Local\\Temp\\2\\ipykernel_3284\\2317175934.py\u001b[0m in \u001b[0;36m<cell line: 1>\u001b[1;34m()\u001b[0m\n\u001b[1;32m----> 1\u001b[1;33m \u001b[0mmt_object\u001b[0m\u001b[1;33m.\u001b[0m\u001b[0mstation_metadata\u001b[0m\u001b[1;33m.\u001b[0m\u001b[0mruns\u001b[0m\u001b[1;33m[\u001b[0m\u001b[1;34m\"NMX20b\"\u001b[0m\u001b[1;33m]\u001b[0m\u001b[1;33m\u001b[0m\u001b[1;33m\u001b[0m\u001b[0m\n\u001b[0m",
      "\u001b[1;31mTypeError\u001b[0m: list indices must be integers or slices, not str"
     ]
    }
   ],
   "source": [
    "mt_object.station_metadata.runs[\"NMX20b\"]"
   ]
  },
  {
   "cell_type": "code",
   "execution_count": null,
   "id": "32165bdf-6bc0-4050-8158-f5b6ec8b240d",
   "metadata": {},
   "outputs": [],
   "source": []
  }
 ],
 "metadata": {
  "kernelspec": {
   "display_name": "Python 3 (ipykernel)",
   "language": "python",
   "name": "python3"
  },
  "language_info": {
   "codemirror_mode": {
    "name": "ipython",
    "version": 3
   },
   "file_extension": ".py",
   "mimetype": "text/x-python",
   "name": "python",
   "nbconvert_exporter": "python",
   "pygments_lexer": "ipython3",
   "version": "3.8.13"
  }
 },
 "nbformat": 4,
 "nbformat_minor": 5
}
