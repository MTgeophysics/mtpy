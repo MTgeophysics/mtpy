{
 "cells": [
  {
   "cell_type": "code",
   "execution_count": 1,
   "metadata": {},
   "outputs": [
    {
     "name": "stderr",
     "output_type": "stream",
     "text": [
      "No handlers could be found for logger \"mtpy.utils.decorator\"\n",
      "ERROR:root:the config yaml file /home/jami/.anaconda3/envs/mtpy_fork/lib/python2.7/site-packages/mtpy-1.0.1-py2.7.egg/mtpy/utils/logging.yml does not exist?\n",
      "None\n",
      "WARNING:mtpy.utils.decorator:GDAL_DATA environment variable is not set  Please see https://trac.osgeo.org/gdal/wiki/FAQInstallationAndBuilding#HowtosetGDAL_DATAvariable \n"
     ]
    },
    {
     "name": "stdout",
     "output_type": "stream",
     "text": [
      "GDAL is not working !!!\n"
     ]
    },
    {
     "name": "stderr",
     "output_type": "stream",
     "text": [
      "WARNING:mtpy.utils.decorator:GDAL_DATA environment variable is not set  Please see https://trac.osgeo.org/gdal/wiki/FAQInstallationAndBuilding#HowtosetGDAL_DATAvariable \n"
     ]
    },
    {
     "name": "stdout",
     "output_type": "stream",
     "text": [
      "GDAL is not working !!!\n",
      "GDAL is not working !!!\n"
     ]
    }
   ],
   "source": [
    "import numpy as np\n",
    "from mtpy.contrib.netcdf import nc, winglink_to_netCDF\n",
    "from pyproj import Proj"
   ]
  },
  {
   "cell_type": "code",
   "execution_count": 2,
   "metadata": {},
   "outputs": [],
   "source": [
    "# the input data \"winGlink_3dmod_input.xyzv\" had no information about the crs.\n",
    "# so, we had to hard code it.\n",
    "# epsg 32753 represents the data area are in WGS84/ UTM 53S\n",
    "\n",
    "source_proj = Proj(init='epsg:32753')\n",
    "grid_proj = Proj(init='epsg:4326')\n",
    "\n",
    "# make a grid that covers the whole area of all the points\n",
    "# with desired resolution. The grid epsg we want is 4326 which is global and in lat/lon.\n",
    "grid_spec = nc.grid_from_extent_and_resolution(left=(131.5, -31., -4500.),\n",
    "                                               right=(132.5, -30., -125.),\n",
    "                                               resolution=(0.005, 0.005, 100.))"
   ]
  },
  {
   "cell_type": "code",
   "execution_count": 3,
   "metadata": {},
   "outputs": [],
   "source": [
    "WING_LINK_DATA_FILE = 'E:/Githubz/ummazannat/mtpy/mtpy/contrib/netcdf/winGlink_3dmod_input.xyzv'\n",
    "# WING_LINK_DATA_FILE = '../../examples/data/winGlink_3dmod_input.xyzv'\n",
    "\n",
    "# input data hes been fixed for false origin\n",
    "source_points, source_values = winglink_to_netCDF.read_winglink_xyzv(WING_LINK_DATA_FILE,\n",
    "                                                                     false_easting=500000.0,\n",
    "                                                                     false_northing=10000000.0)"
   ]
  },
  {
   "cell_type": "code",
   "execution_count": 4,
   "metadata": {},
   "outputs": [],
   "source": [
    "output_file = 'winglink.nc'\n",
    "\n",
    "winglink_to_netCDF.mask_interpolate_and_write(output_file,\n",
    "                                              source_points, source_values, source_proj,\n",
    "                                              grid_spec, grid_proj)"
   ]
  },
  {
   "cell_type": "code",
   "execution_count": null,
   "metadata": {},
   "outputs": [],
   "source": []
  }
 ],
 "metadata": {
  "kernelspec": {
   "display_name": "Python 2",
   "language": "python",
   "name": "python2"
  },
  "language_info": {
   "codemirror_mode": {
    "name": "ipython",
    "version": 2
   },
   "file_extension": ".py",
   "mimetype": "text/x-python",
   "name": "python",
   "nbconvert_exporter": "python",
   "pygments_lexer": "ipython2",
   "version": "2.7.15"
  }
 },
 "nbformat": 4,
 "nbformat_minor": 2
}
