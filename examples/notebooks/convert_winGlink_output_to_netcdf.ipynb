{
 "cells": [
  {
   "cell_type": "code",
   "execution_count": 2,
   "metadata": {},
   "outputs": [],
   "source": [
    "%matplotlib inline"
   ]
  },
  {
   "cell_type": "code",
   "execution_count": 1,
   "metadata": {},
   "outputs": [
    {
     "name": "stderr",
     "output_type": "stream",
     "text": [
      "No handlers could be found for logger \"mtpy.utils.decorator\"\n"
     ]
    },
    {
     "name": "stdout",
     "output_type": "stream",
     "text": [
      "GDAL_DATA environment variable not set. Please see https://trac.osgeo.org/gdal/wiki/FAQInstallationAndBuilding#HowtosetGDAL_DATAvariable for more information.\n",
      "2018-12-18T11:23:36 - mtpy.utils.decorator - WARNING - GDAL_DATA environment variable is not set\n",
      "GDAL_DATA environment variable not set. Please see https://trac.osgeo.org/gdal/wiki/FAQInstallationAndBuilding#HowtosetGDAL_DATAvariable for more information.\n",
      "2018-12-18T11:23:36 - mtpy.utils.decorator - WARNING - GDAL_DATA environment variable is not set\n",
      "GDAL_DATA environment variable not set. Please see https://trac.osgeo.org/gdal/wiki/FAQInstallationAndBuilding#HowtosetGDAL_DATAvariable for more information.\n"
     ]
    }
   ],
   "source": [
    "import numpy as np\n",
    "from mtpy.utils import interp, nc, lib"
   ]
  },
  {
   "cell_type": "code",
   "execution_count": 5,
   "metadata": {},
   "outputs": [],
   "source": [
    "# the input data \"winGlink_3dmod_input.xyzv\" had no information about the crs.\n",
    "# so, we had to hard code it.\n",
    "# epsg 32753 represents the data area are in WGS84/ UTM 53S\n",
    "\n",
    "source_epsg = 32753\n",
    "wgs84_epsg = 4326\n",
    "\n",
    "# make a grid that covers the whole area of all the points\n",
    "# with desired resolution. The grid epsg we want is 4326 which is global and in lat/lon.\n",
    "geo_grid = lib.Grid3D.from_extent_and_resolution(left=(131.5, -31., -4500.),\n",
    "                                                 right=(132.5, -30., -125.),\n",
    "                                                 resolution=(0.005, 0.005, 100.),\n",
    "                                                 epsg=wgs84_epsg)\n",
    "# utm points are poivins flattened in our data crs for IDW interpolation\n",
    "utm_points = geo_grid.flatten().to_epsg(source_epsg)"
   ]
  },
  {
   "cell_type": "code",
   "execution_count": 6,
   "metadata": {},
   "outputs": [
    {
     "data": {
      "text/plain": [
       "(1760000, 3)"
      ]
     },
     "execution_count": 6,
     "metadata": {},
     "output_type": "execute_result"
    }
   ],
   "source": [
    "utm_points.points.shape"
   ]
  },
  {
   "cell_type": "code",
   "execution_count": 7,
   "metadata": {},
   "outputs": [],
   "source": [
    "# the input data are in Col1:lat(utm),Col2:lon(utm)\n",
    "# Col3:depth(m),Col4:resistivity.\n",
    "\n",
    "arr = np.loadtxt('winGlink_3dmod_input.xyzv')\n",
    "\n",
    "# input data hes been fixed for false origin\n",
    "# Points3D object is a collection of 3D points that remembers its epsg\n",
    "\n",
    "false_easting = 500000.0\n",
    "false_northing = 10000000.0\n",
    "\n",
    "source_points = lib.Points3D(np.array([arr[:, 0] - false_easting, arr[:, 1]- false_northing, arr[:, 2]]).T, source_epsg)\n"
   ]
  },
  {
   "cell_type": "code",
   "execution_count": 8,
   "metadata": {},
   "outputs": [],
   "source": [
    "source_val = arr[:, 3]\n",
    "#print(source_val.shape)\n",
    "\n",
    "source_in_geo = source_points.to_epsg(wgs84_epsg)\n",
    "\n",
    "# The upper layer has very high resistivity to distinguish\n",
    "# it from the other layer, so masking has been used\n",
    "mask = source_in_geo.clipping_mask(geo_grid)\n",
    "source_points.points = source_points.points[mask]\n",
    "\n",
    "source_val = source_val[mask]"
   ]
  },
  {
   "cell_type": "code",
   "execution_count": 9,
   "metadata": {},
   "outputs": [],
   "source": [
    "#resistivity = interp.nearest(source_points, source_val, utm_points)\n",
    "resistivity = interp.IDW(source_points, source_val, utm_points)"
   ]
  },
  {
   "cell_type": "code",
   "execution_count": 10,
   "metadata": {},
   "outputs": [
    {
     "name": "stdout",
     "output_type": "stream",
     "text": [
      "(200, 200, 44)\n"
     ]
    }
   ],
   "source": [
    "resistivity = resistivity.reshape(geo_grid.shape[:3])\n",
    "\n",
    "print(resistivity.shape)"
   ]
  },
  {
   "cell_type": "code",
   "execution_count": 11,
   "metadata": {},
   "outputs": [],
   "source": [
    "# source points are our data points and geo_grid is the\n",
    "# grid where we want our values.\n",
    "nc.write_resistivity_grid('IDW.nc', wgs84_epsg, geo_grid.y, geo_grid.x, geo_grid.z, resistivity.transpose([2, 0, 1]))\n",
    "\n"
   ]
  },
  {
   "cell_type": "code",
   "execution_count": null,
   "metadata": {},
   "outputs": [],
   "source": []
  }
 ],
 "metadata": {
  "kernelspec": {
   "display_name": "Python 2",
   "language": "python",
   "name": "python2"
  },
  "language_info": {
   "codemirror_mode": {
    "name": "ipython",
    "version": 2
   },
   "file_extension": ".py",
   "mimetype": "text/x-python",
   "name": "python",
   "nbconvert_exporter": "python",
   "pygments_lexer": "ipython2",
   "version": "2.7.15"
  }
 },
 "nbformat": 4,
 "nbformat_minor": 2
}
