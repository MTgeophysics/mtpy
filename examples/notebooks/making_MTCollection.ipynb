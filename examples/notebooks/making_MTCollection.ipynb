{
 "cells": [
  {
   "cell_type": "markdown",
   "id": "f5925870-fb3c-44de-9a32-11b660f3d06a",
   "metadata": {},
   "source": [
    "# Building an MTCollection\n",
    "\n",
    "The first step to analyzing a set of transfer functions is to load them into an `MTCollection` which is just a wrapper around an `MTH5` file.  The advantage to doing this is that you only have to do this once from the various transfer functions that you have, which might include various flavors of EDI, EMTFXML, J-files, Z-files, AVG-files, etc.  The other advantage is that now you have a database to work with: a single file where data is readily accessible vs. multiple ASCII files that need to be read in each time you want to do something.  \n",
    "\n",
    "Using the class `MT` any<a name=\"fn1\"></a>[<sup>[1]</sup>](#fn1) transfer function can be read into a generic transfer function container `MT`.  If you want to adjust `survey.id` or other metadata attributes you can do it from the `MT` object.  \n",
    "\n",
    "<a name=\"fn1\"></a>1. [^](#fn1) It works 100% of the time 50% of the time.  Most transfer function files are supported but if you find one is not raise an [issue](https://github.com/MTgeophysics/mtpy/issues)"
   ]
  },
  {
   "cell_type": "markdown",
   "id": "f935768e-b3b5-4b87-b41f-fcedbf70bc6b",
   "metadata": {},
   "source": [
    "## 1. Get List of Transfer Function Files\n",
    "\n",
    "Step one is locating all the transfer function files you want to read in.  Here we will read in a couple different folders.  "
   ]
  },
  {
   "cell_type": "code",
   "execution_count": null,
   "id": "9a3d3852-6e15-47e8-9796-e4856b417ad4",
   "metadata": {},
   "outputs": [],
   "source": []
  }
 ],
 "metadata": {
  "kernelspec": {
   "display_name": "Python 3 (ipykernel)",
   "language": "python",
   "name": "python3"
  },
  "language_info": {
   "codemirror_mode": {
    "name": "ipython",
    "version": 3
   },
   "file_extension": ".py",
   "mimetype": "text/x-python",
   "name": "python",
   "nbconvert_exporter": "python",
   "pygments_lexer": "ipython3",
   "version": "3.8.13"
  }
 },
 "nbformat": 4,
 "nbformat_minor": 5
}
