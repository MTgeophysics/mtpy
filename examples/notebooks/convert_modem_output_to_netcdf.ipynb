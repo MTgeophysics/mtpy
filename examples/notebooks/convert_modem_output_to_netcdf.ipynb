{
 "cells": [
  {
   "cell_type": "code",
   "execution_count": 1,
   "metadata": {},
   "outputs": [
    {
     "name": "stderr",
     "output_type": "stream",
     "text": [
      "No handlers could be found for logger \"mtpy.utils.decorator\"\n",
      "ERROR:root:the config yaml file /home/jami/.anaconda3/envs/mtpy_fork/lib/python2.7/site-packages/mtpy-1.0.1-py2.7.egg/mtpy/utils/logging.yml does not exist?\n",
      "None\n",
      "WARNING:mtpy.utils.decorator:GDAL_DATA environment variable is not set  Please see https://trac.osgeo.org/gdal/wiki/FAQInstallationAndBuilding#HowtosetGDAL_DATAvariable \n",
      "WARNING:mtpy.utils.decorator:GDAL_DATA environment variable is not set  Please see https://trac.osgeo.org/gdal/wiki/FAQInstallationAndBuilding#HowtosetGDAL_DATAvariable \n"
     ]
    },
    {
     "name": "stdout",
     "output_type": "stream",
     "text": [
      "GDAL is not working !!!\n",
      "GDAL is not working !!!\n",
      "GDAL is not working !!!\n",
      "If you want to write a vtk file for 3d viewing, you need download and install evtk from https://bitbucket.org/pauloh/pyevtk\n",
      "Note: if you are using Windows you should build evtk first witheither MinGW or cygwin using the command: \n",
      "    python setup.py build -compiler=mingw32  or \n",
      "    python setup.py build -compiler=cygwin\n",
      "If you want to write a vtk file for 3d viewing, you need to install pyevtk\n",
      "Note: if you are using Windows you should build evtk first witheither MinGW or cygwin using the command: \n",
      "    python setup.py build -compiler=mingw32  or \n",
      "    python setup.py build -compiler=cygwin\n",
      "If you want to write a vtk file for 3d viewing, you need download and install evtk from https://bitbucket.org/pauloh/pyevtk\n",
      "If you want to write a vtk file for 3d viewing, you need to pip install PyEVTK: https://bitbucket.org/pauloh/pyevtk\n",
      "Note: if you are using Windows you should build evtk first witheither MinGW or cygwin using the command: \n",
      "    python setup.py build -compiler=mingw32  or \n",
      "    python setup.py build -compiler=cygwin\n"
     ]
    },
    {
     "name": "stderr",
     "output_type": "stream",
     "text": [
      "If you want to write a vtk file for 3d viewing, you need download and install evtk from https://bitbucket.org/pauloh/pyevtk\n"
     ]
    }
   ],
   "source": [
    "from os.path import join\n",
    "import numpy as np\n",
    "\n",
    "from scipy.interpolate import interp2d\n",
    "from pyproj import Proj, transform\n",
    "\n",
    "from mtpy.modeling.modem import Model, Data\n",
    "from mtpy.utils import gis_tools\n",
    "\n",
    "from mtpy.contrib.netcdf import nc\n",
    "\n",
    "from mtpy.contrib.netcdf.modem_to_netCDF import interpolate, median_spacing"
   ]
  },
  {
   "cell_type": "code",
   "execution_count": 2,
   "metadata": {},
   "outputs": [
    {
     "name": "stderr",
     "output_type": "stream",
     "text": [
      "INFO:Data:Set rotation angle to 0.0 deg clockwise from N\n",
      "/home/jami/.anaconda3/envs/mtpy_fork/lib/python2.7/site-packages/mtpy-1.0.1-py2.7.egg/mtpy/utils/calculator.py:322: RuntimeWarning: invalid value encountered in double_scalars\n",
      "  z_rel_err = error/z_amp\n"
     ]
    },
    {
     "name": "stdout",
     "output_type": "stream",
     "text": [
      "      -15500.000      -21500.000         -67.000\n",
      "\n",
      "    0.000\n",
      "\n"
     ]
    }
   ],
   "source": [
    "# Define Data and Model Paths\n",
    "MT_PATH = 'E:/Githubz/ummazannat/mtpy/examples/model_files/ModEM/'\n",
    "# MT_PATH = \"../../examples/model_files/ModEM/\"\n",
    "\n",
    "data = Data()\n",
    "data.read_data_file(data_fn=join(MT_PATH, 'ModEM_Data.dat'))\n",
    "\n",
    "# create a model object using the data object and read in model data\n",
    "model = Model(data_obj=data)\n",
    "model.read_model_file(model_fn=join(MT_PATH, 'ModEM_Model_File.rho'))\n"
   ]
  },
  {
   "cell_type": "code",
   "execution_count": 3,
   "metadata": {},
   "outputs": [],
   "source": [
    "center = data.center_point\n",
    "\n",
    "# dictionary for resistivity model data\n",
    "# populate variables\n",
    "\n",
    "resistivity_data = {\n",
    "        'x': center.east.item() + (model.grid_east[1:] + model.grid_east[:-1])/\n",
    "2,\n",
    "        'y': center.north.item() + (model.grid_north[1:] + model.grid_north[:-1\n",
    "])/2,\n",
    "        'z': (model.grid_z[1:] + model.grid_z[:-1])/2,\n",
    "        'resistivity': np.transpose(model.res_model, axes=(2, 0, 1))\n",
    "    }\n",
    "\n",
    "zone_number, is_northern, utm_zone = gis_tools.get_utm_zone(center.lat.item(), center.lon.item())\n",
    "source_proj = Proj('+proj=utm +zone=%d +%s +datum=%s' % (zone_number, 'north' if is_northern else 'south', 'WGS84'))"
   ]
  },
  {
   "cell_type": "code",
   "execution_count": 4,
   "metadata": {},
   "outputs": [],
   "source": [
    "# grid_proj is the lat lon global projection.\n",
    "# At this moment it is hard coded because we are not using GDAL\n",
    "\n",
    "grid_proj = Proj(init='epsg:4326')\n",
    "\n",
    "result = interpolate(resistivity_data, source_proj, grid_proj,\n",
    "                     center, median_spacing(model.grid_east), median_spacing(model.grid_north))\n",
    "\n",
    "output_file = 'output.nc'\n",
    "\n",
    "nc.write_resistivity_grid(output_file, grid_proj,\n",
    "                          result['latitude'], result['longitude'], result['depth'],\n",
    "                          result['resistivity'], z_label='depth')\n",
    "\n"
   ]
  },
  {
   "cell_type": "code",
   "execution_count": null,
   "metadata": {},
   "outputs": [],
   "source": []
  }
 ],
 "metadata": {
  "kernelspec": {
   "display_name": "Python 2",
   "language": "python",
   "name": "python2"
  },
  "language_info": {
   "codemirror_mode": {
    "name": "ipython",
    "version": 2
   },
   "file_extension": ".py",
   "mimetype": "text/x-python",
   "name": "python",
   "nbconvert_exporter": "python",
   "pygments_lexer": "ipython2",
   "version": "2.7.15"
  }
 },
 "nbformat": 4,
 "nbformat_minor": 2
}
